{
 "cells": [
  {
   "cell_type": "code",
   "execution_count": 1,
   "metadata": {},
   "outputs": [],
   "source": [
    "import numpy as np\n",
    "import matplotlib.pyplot as plt\n",
    "import pandas as pd\n",
    "import seaborn as sns\n",
    "import mysql.connector\n",
    "import datetime as dt\n",
    "sns.set()\n",
    "import warnings\n",
    "warnings.filterwarnings('ignore')"
   ]
  },
  {
   "cell_type": "code",
   "execution_count": 2,
   "metadata": {},
   "outputs": [],
   "source": [
    "mydb = mysql.connector.connect(\n",
    "  host=\n",
    "  user=\n",
    "  password=\n",
    "  database=\n",
    ")\n",
    "\n",
    "mycursor = mydb.cursor()\n",
    "#BDemog = pd.read_sql(\"SELECT * FROM Demographics\", con=mydb)\n",
    "BDrugs = pd.read_sql(\"SELECT * FROM Drug\", con=mydb)\n",
    "BOutc = pd.read_sql(\"SELECT * FROM Outcome\", con=mydb)\n",
    "BRPSR = pd.read_sql(\"SELECT * FROM Reported_Sources\", con=mydb)\n",
    "BDemog = pd.read_csv('/Users/halisyigin/Desktop/health_data/data/DEMO20Q1.csv')"
   ]
  },
  {
   "cell_type": "markdown",
   "metadata": {},
   "source": [
    "# Drug"
   ]
  },
  {
   "cell_type": "code",
   "execution_count": 3,
   "metadata": {
    "scrolled": false
   },
   "outputs": [
    {
     "data": {
      "text/plain": [
       "Index(['primaryid', 'caseid', 'drug_seq', 'role_cod', 'drugname', 'prod_ai',\n",
       "       'val_vbm', 'route', 'dose_vbm', 'cum_dose_chr', 'cum_dose_unit',\n",
       "       'dechal', 'rechal', 'lot_num', 'exp_dt', 'nda_num', 'dose_amt',\n",
       "       'dose_unit', 'dose_form', 'dose_freq'],\n",
       "      dtype='object')"
      ]
     },
     "execution_count": 3,
     "metadata": {},
     "output_type": "execute_result"
    }
   ],
   "source": [
    "BDrugs.columns"
   ]
  },
  {
   "cell_type": "code",
   "execution_count": 4,
   "metadata": {},
   "outputs": [
    {
     "data": {
      "text/html": [
       "<div>\n",
       "<style scoped>\n",
       "    .dataframe tbody tr th:only-of-type {\n",
       "        vertical-align: middle;\n",
       "    }\n",
       "\n",
       "    .dataframe tbody tr th {\n",
       "        vertical-align: top;\n",
       "    }\n",
       "\n",
       "    .dataframe thead th {\n",
       "        text-align: right;\n",
       "    }\n",
       "</style>\n",
       "<table border=\"1\" class=\"dataframe\">\n",
       "  <thead>\n",
       "    <tr style=\"text-align: right;\">\n",
       "      <th></th>\n",
       "      <th>primaryid</th>\n",
       "      <th>caseid</th>\n",
       "      <th>drug_seq</th>\n",
       "      <th>role_cod</th>\n",
       "      <th>drugname</th>\n",
       "      <th>prod_ai</th>\n",
       "      <th>val_vbm</th>\n",
       "      <th>route</th>\n",
       "      <th>dose_vbm</th>\n",
       "      <th>cum_dose_chr</th>\n",
       "      <th>cum_dose_unit</th>\n",
       "      <th>dechal</th>\n",
       "      <th>rechal</th>\n",
       "      <th>lot_num</th>\n",
       "      <th>exp_dt</th>\n",
       "      <th>nda_num</th>\n",
       "      <th>dose_amt</th>\n",
       "      <th>dose_unit</th>\n",
       "      <th>dose_form</th>\n",
       "      <th>dose_freq</th>\n",
       "    </tr>\n",
       "  </thead>\n",
       "  <tbody>\n",
       "    <tr>\n",
       "      <th>0</th>\n",
       "      <td>100046942</td>\n",
       "      <td>10004694</td>\n",
       "      <td>1</td>\n",
       "      <td>PS</td>\n",
       "      <td>LIPITOR</td>\n",
       "      <td>ATORVASTATIN CALCIUM</td>\n",
       "      <td>1</td>\n",
       "      <td>Oral</td>\n",
       "      <td>20 MG, DAILY</td>\n",
       "      <td></td>\n",
       "      <td></td>\n",
       "      <td>U</td>\n",
       "      <td></td>\n",
       "      <td></td>\n",
       "      <td></td>\n",
       "      <td>020702</td>\n",
       "      <td>20</td>\n",
       "      <td>MG</td>\n",
       "      <td>FILM-COATED TABLET</td>\n",
       "      <td></td>\n",
       "    </tr>\n",
       "    <tr>\n",
       "      <th>1</th>\n",
       "      <td>100046942</td>\n",
       "      <td>10004694</td>\n",
       "      <td>2</td>\n",
       "      <td>SS</td>\n",
       "      <td>LIPITOR</td>\n",
       "      <td>ATORVASTATIN CALCIUM</td>\n",
       "      <td>1</td>\n",
       "      <td></td>\n",
       "      <td></td>\n",
       "      <td></td>\n",
       "      <td></td>\n",
       "      <td>U</td>\n",
       "      <td></td>\n",
       "      <td></td>\n",
       "      <td></td>\n",
       "      <td>020702</td>\n",
       "      <td></td>\n",
       "      <td></td>\n",
       "      <td>FILM-COATED TABLET</td>\n",
       "      <td></td>\n",
       "    </tr>\n",
       "    <tr>\n",
       "      <th>2</th>\n",
       "      <td>100046942</td>\n",
       "      <td>10004694</td>\n",
       "      <td>3</td>\n",
       "      <td>SS</td>\n",
       "      <td>ATORVASTATIN CALCIUM.</td>\n",
       "      <td>ATORVASTATIN CALCIUM</td>\n",
       "      <td>1</td>\n",
       "      <td>Oral</td>\n",
       "      <td>20 MG, DAILY</td>\n",
       "      <td></td>\n",
       "      <td></td>\n",
       "      <td>U</td>\n",
       "      <td></td>\n",
       "      <td></td>\n",
       "      <td></td>\n",
       "      <td>020702</td>\n",
       "      <td>20</td>\n",
       "      <td>MG</td>\n",
       "      <td>FILM-COATED TABLET</td>\n",
       "      <td></td>\n",
       "    </tr>\n",
       "    <tr>\n",
       "      <th>3</th>\n",
       "      <td>100046942</td>\n",
       "      <td>10004694</td>\n",
       "      <td>4</td>\n",
       "      <td>C</td>\n",
       "      <td>ZOCOR</td>\n",
       "      <td>SIMVASTATIN</td>\n",
       "      <td>1</td>\n",
       "      <td></td>\n",
       "      <td>(40-80 MG) DAILY</td>\n",
       "      <td></td>\n",
       "      <td></td>\n",
       "      <td></td>\n",
       "      <td></td>\n",
       "      <td></td>\n",
       "      <td></td>\n",
       "      <td></td>\n",
       "      <td></td>\n",
       "      <td></td>\n",
       "      <td></td>\n",
       "      <td></td>\n",
       "    </tr>\n",
       "    <tr>\n",
       "      <th>4</th>\n",
       "      <td>100046942</td>\n",
       "      <td>10004694</td>\n",
       "      <td>5</td>\n",
       "      <td>C</td>\n",
       "      <td>SIMVASTATIN.</td>\n",
       "      <td>SIMVASTATIN</td>\n",
       "      <td>1</td>\n",
       "      <td></td>\n",
       "      <td>40 MG, DAILY</td>\n",
       "      <td></td>\n",
       "      <td></td>\n",
       "      <td></td>\n",
       "      <td></td>\n",
       "      <td></td>\n",
       "      <td></td>\n",
       "      <td></td>\n",
       "      <td>40</td>\n",
       "      <td>MG</td>\n",
       "      <td></td>\n",
       "      <td></td>\n",
       "    </tr>\n",
       "    <tr>\n",
       "      <th>5</th>\n",
       "      <td>100048206</td>\n",
       "      <td>10004820</td>\n",
       "      <td>1</td>\n",
       "      <td>PS</td>\n",
       "      <td>DILANTIN</td>\n",
       "      <td>PHENYTOIN</td>\n",
       "      <td>1</td>\n",
       "      <td>Oral</td>\n",
       "      <td>100 MG, 2X/DAY</td>\n",
       "      <td></td>\n",
       "      <td></td>\n",
       "      <td>U</td>\n",
       "      <td></td>\n",
       "      <td></td>\n",
       "      <td></td>\n",
       "      <td>84349</td>\n",
       "      <td>100</td>\n",
       "      <td>MG</td>\n",
       "      <td>CAPSULE, HARD</td>\n",
       "      <td>BID</td>\n",
       "    </tr>\n",
       "    <tr>\n",
       "      <th>6</th>\n",
       "      <td>100048206</td>\n",
       "      <td>10004820</td>\n",
       "      <td>2</td>\n",
       "      <td>SS</td>\n",
       "      <td>DILANTIN</td>\n",
       "      <td>PHENYTOIN</td>\n",
       "      <td>1</td>\n",
       "      <td>Oral</td>\n",
       "      <td>200 MG, 2X/DAY</td>\n",
       "      <td></td>\n",
       "      <td></td>\n",
       "      <td>U</td>\n",
       "      <td></td>\n",
       "      <td></td>\n",
       "      <td></td>\n",
       "      <td>84349</td>\n",
       "      <td>200</td>\n",
       "      <td>MG</td>\n",
       "      <td>CAPSULE, HARD</td>\n",
       "      <td>BID</td>\n",
       "    </tr>\n",
       "    <tr>\n",
       "      <th>7</th>\n",
       "      <td>100048622</td>\n",
       "      <td>10004862</td>\n",
       "      <td>1</td>\n",
       "      <td>PS</td>\n",
       "      <td>LIPITOR</td>\n",
       "      <td>ATORVASTATIN CALCIUM</td>\n",
       "      <td>1</td>\n",
       "      <td>Oral</td>\n",
       "      <td>20 MG, 1X/DAY</td>\n",
       "      <td></td>\n",
       "      <td></td>\n",
       "      <td>U</td>\n",
       "      <td></td>\n",
       "      <td></td>\n",
       "      <td></td>\n",
       "      <td>020702</td>\n",
       "      <td>20</td>\n",
       "      <td>MG</td>\n",
       "      <td>FILM-COATED TABLET</td>\n",
       "      <td>QD</td>\n",
       "    </tr>\n",
       "    <tr>\n",
       "      <th>8</th>\n",
       "      <td>100048622</td>\n",
       "      <td>10004862</td>\n",
       "      <td>2</td>\n",
       "      <td>SS</td>\n",
       "      <td>LIPITOR</td>\n",
       "      <td>ATORVASTATIN CALCIUM</td>\n",
       "      <td>1</td>\n",
       "      <td>Oral</td>\n",
       "      <td>40 MG, 1X/DAY</td>\n",
       "      <td></td>\n",
       "      <td></td>\n",
       "      <td>U</td>\n",
       "      <td></td>\n",
       "      <td></td>\n",
       "      <td></td>\n",
       "      <td>020702</td>\n",
       "      <td>40</td>\n",
       "      <td>MG</td>\n",
       "      <td>FILM-COATED TABLET</td>\n",
       "      <td>QD</td>\n",
       "    </tr>\n",
       "    <tr>\n",
       "      <th>9</th>\n",
       "      <td>100048622</td>\n",
       "      <td>10004862</td>\n",
       "      <td>3</td>\n",
       "      <td>SS</td>\n",
       "      <td>LIPITOR</td>\n",
       "      <td>ATORVASTATIN CALCIUM</td>\n",
       "      <td>1</td>\n",
       "      <td>Oral</td>\n",
       "      <td>80 MG, 1X/DAY</td>\n",
       "      <td></td>\n",
       "      <td></td>\n",
       "      <td>U</td>\n",
       "      <td></td>\n",
       "      <td></td>\n",
       "      <td></td>\n",
       "      <td>020702</td>\n",
       "      <td>80</td>\n",
       "      <td>MG</td>\n",
       "      <td>FILM-COATED TABLET</td>\n",
       "      <td>QD</td>\n",
       "    </tr>\n",
       "  </tbody>\n",
       "</table>\n",
       "</div>"
      ],
      "text/plain": [
       "   primaryid    caseid  drug_seq role_cod               drugname  \\\n",
       "0  100046942  10004694         1       PS                LIPITOR   \n",
       "1  100046942  10004694         2       SS                LIPITOR   \n",
       "2  100046942  10004694         3       SS  ATORVASTATIN CALCIUM.   \n",
       "3  100046942  10004694         4        C                  ZOCOR   \n",
       "4  100046942  10004694         5        C           SIMVASTATIN.   \n",
       "5  100048206  10004820         1       PS               DILANTIN   \n",
       "6  100048206  10004820         2       SS               DILANTIN   \n",
       "7  100048622  10004862         1       PS                LIPITOR   \n",
       "8  100048622  10004862         2       SS                LIPITOR   \n",
       "9  100048622  10004862         3       SS                LIPITOR   \n",
       "\n",
       "                prod_ai val_vbm route          dose_vbm cum_dose_chr  \\\n",
       "0  ATORVASTATIN CALCIUM       1  Oral      20 MG, DAILY                \n",
       "1  ATORVASTATIN CALCIUM       1                                        \n",
       "2  ATORVASTATIN CALCIUM       1  Oral      20 MG, DAILY                \n",
       "3           SIMVASTATIN       1        (40-80 MG) DAILY                \n",
       "4           SIMVASTATIN       1            40 MG, DAILY                \n",
       "5             PHENYTOIN       1  Oral    100 MG, 2X/DAY                \n",
       "6             PHENYTOIN       1  Oral    200 MG, 2X/DAY                \n",
       "7  ATORVASTATIN CALCIUM       1  Oral     20 MG, 1X/DAY                \n",
       "8  ATORVASTATIN CALCIUM       1  Oral     40 MG, 1X/DAY                \n",
       "9  ATORVASTATIN CALCIUM       1  Oral     80 MG, 1X/DAY                \n",
       "\n",
       "  cum_dose_unit dechal rechal lot_num exp_dt nda_num dose_amt dose_unit  \\\n",
       "0                    U                        020702       20        MG   \n",
       "1                    U                        020702                      \n",
       "2                    U                        020702       20        MG   \n",
       "3                                                                         \n",
       "4                                                          40        MG   \n",
       "5                    U                         84349      100        MG   \n",
       "6                    U                         84349      200        MG   \n",
       "7                    U                        020702       20        MG   \n",
       "8                    U                        020702       40        MG   \n",
       "9                    U                        020702       80        MG   \n",
       "\n",
       "            dose_form dose_freq  \n",
       "0  FILM-COATED TABLET            \n",
       "1  FILM-COATED TABLET            \n",
       "2  FILM-COATED TABLET            \n",
       "3                                \n",
       "4                                \n",
       "5       CAPSULE, HARD       BID  \n",
       "6       CAPSULE, HARD       BID  \n",
       "7  FILM-COATED TABLET        QD  \n",
       "8  FILM-COATED TABLET        QD  \n",
       "9  FILM-COATED TABLET        QD  "
      ]
     },
     "execution_count": 4,
     "metadata": {},
     "output_type": "execute_result"
    }
   ],
   "source": [
    "BDrugs.head(10)"
   ]
  },
  {
   "cell_type": "code",
   "execution_count": 5,
   "metadata": {},
   "outputs": [
    {
     "name": "stdout",
     "output_type": "stream",
     "text": [
      "<class 'pandas.core.frame.DataFrame'>\n",
      "Int64Index: 4501 entries, 0 to 1943531\n",
      "Data columns (total 20 columns):\n",
      " #   Column         Non-Null Count  Dtype \n",
      "---  ------         --------------  ----- \n",
      " 0   primaryid      4501 non-null   int64 \n",
      " 1   caseid         4501 non-null   int64 \n",
      " 2   drug_seq       4501 non-null   int64 \n",
      " 3   role_cod       4501 non-null   object\n",
      " 4   drugname       4501 non-null   object\n",
      " 5   prod_ai        4501 non-null   object\n",
      " 6   val_vbm        4501 non-null   object\n",
      " 7   route          4501 non-null   object\n",
      " 8   dose_vbm       4501 non-null   object\n",
      " 9   cum_dose_chr   4501 non-null   object\n",
      " 10  cum_dose_unit  4501 non-null   object\n",
      " 11  dechal         4501 non-null   object\n",
      " 12  rechal         4501 non-null   object\n",
      " 13  lot_num        4501 non-null   object\n",
      " 14  exp_dt         4501 non-null   object\n",
      " 15  nda_num        4501 non-null   object\n",
      " 16  dose_amt       4501 non-null   object\n",
      " 17  dose_unit      4501 non-null   object\n",
      " 18  dose_form      4501 non-null   object\n",
      " 19  dose_freq      4501 non-null   object\n",
      "dtypes: int64(3), object(17)\n",
      "memory usage: 738.4+ KB\n"
     ]
    }
   ],
   "source": [
    "Lipitor=BDrugs[(BDrugs.drugname=='LIPITOR')]\n",
    "Lipitor.info()"
   ]
  },
  {
   "cell_type": "code",
   "execution_count": 6,
   "metadata": {},
   "outputs": [],
   "source": [
    "Lipitor=Lipitor[['primaryid','drugname']]\n",
    "Lipitor=Lipitor.drop_duplicates()"
   ]
  },
  {
   "cell_type": "code",
   "execution_count": 7,
   "metadata": {
    "scrolled": false
   },
   "outputs": [
    {
     "name": "stdout",
     "output_type": "stream",
     "text": [
      "<class 'pandas.core.frame.DataFrame'>\n",
      "Int64Index: 3146 entries, 0 to 1943530\n",
      "Data columns (total 2 columns):\n",
      " #   Column     Non-Null Count  Dtype \n",
      "---  ------     --------------  ----- \n",
      " 0   primaryid  3146 non-null   int64 \n",
      " 1   drugname   3146 non-null   object\n",
      "dtypes: int64(1), object(1)\n",
      "memory usage: 73.7+ KB\n"
     ]
    }
   ],
   "source": [
    "Lipitor.info()"
   ]
  },
  {
   "cell_type": "markdown",
   "metadata": {},
   "source": [
    "# Outcome"
   ]
  },
  {
   "cell_type": "code",
   "execution_count": 8,
   "metadata": {
    "scrolled": true
   },
   "outputs": [
    {
     "data": {
      "text/plain": [
       "Index(['primaryId', 'caseId', 'outc_cod'], dtype='object')"
      ]
     },
     "execution_count": 8,
     "metadata": {},
     "output_type": "execute_result"
    }
   ],
   "source": [
    "BOutc.columns"
   ]
  },
  {
   "cell_type": "code",
   "execution_count": 9,
   "metadata": {},
   "outputs": [],
   "source": [
    "BOutc=BOutc.rename(columns={\"primaryId\": \"primaryid\"})"
   ]
  },
  {
   "cell_type": "code",
   "execution_count": 10,
   "metadata": {},
   "outputs": [
    {
     "data": {
      "text/plain": [
       "array(['OT', 'HO', 'DE', 'LT', 'DS', 'CA', 'RI'], dtype=object)"
      ]
     },
     "execution_count": 10,
     "metadata": {},
     "output_type": "execute_result"
    }
   ],
   "source": [
    "BOutc['outc_cod'].unique()"
   ]
  },
  {
   "cell_type": "code",
   "execution_count": 11,
   "metadata": {},
   "outputs": [],
   "source": [
    "Died = BOutc[['primaryid','outc_cod']].replace({'OT': 0,\n",
    "                                                              'HO': 0, \n",
    "                                                              'DE': 1,\n",
    "                                                              'LT': 0,\n",
    "                                                              'DS': 0,\n",
    "                                                              'CA': 0, \n",
    "                                                              'RI': 0})"
   ]
  },
  {
   "cell_type": "code",
   "execution_count": 12,
   "metadata": {},
   "outputs": [
    {
     "data": {
      "text/plain": [
       "0    295249\n",
       "1     40221\n",
       "Name: outc_cod, dtype: int64"
      ]
     },
     "execution_count": 12,
     "metadata": {},
     "output_type": "execute_result"
    }
   ],
   "source": [
    "Died.outc_cod.value_counts()"
   ]
  },
  {
   "cell_type": "markdown",
   "metadata": {},
   "source": [
    "## Join Drug and Outcome"
   ]
  },
  {
   "cell_type": "code",
   "execution_count": 13,
   "metadata": {
    "scrolled": true
   },
   "outputs": [
    {
     "name": "stdout",
     "output_type": "stream",
     "text": [
      "<class 'pandas.core.frame.DataFrame'>\n",
      "Int64Index: 3955 entries, 0 to 3954\n",
      "Data columns (total 3 columns):\n",
      " #   Column     Non-Null Count  Dtype  \n",
      "---  ------     --------------  -----  \n",
      " 0   primaryid  3955 non-null   int64  \n",
      " 1   drugname   3955 non-null   object \n",
      " 2   outc_cod   3198 non-null   float64\n",
      "dtypes: float64(1), int64(1), object(1)\n",
      "memory usage: 123.6+ KB\n"
     ]
    }
   ],
   "source": [
    "Lip_dead=pd.merge(left=Lipitor, right=Died,on='primaryid',how='left')\n",
    "Lip_dead.info()"
   ]
  },
  {
   "cell_type": "code",
   "execution_count": 14,
   "metadata": {},
   "outputs": [
    {
     "data": {
      "text/html": [
       "<div>\n",
       "<style scoped>\n",
       "    .dataframe tbody tr th:only-of-type {\n",
       "        vertical-align: middle;\n",
       "    }\n",
       "\n",
       "    .dataframe tbody tr th {\n",
       "        vertical-align: top;\n",
       "    }\n",
       "\n",
       "    .dataframe thead th {\n",
       "        text-align: right;\n",
       "    }\n",
       "</style>\n",
       "<table border=\"1\" class=\"dataframe\">\n",
       "  <thead>\n",
       "    <tr style=\"text-align: right;\">\n",
       "      <th></th>\n",
       "      <th>primaryid</th>\n",
       "      <th>drugname</th>\n",
       "      <th>outc_cod</th>\n",
       "    </tr>\n",
       "  </thead>\n",
       "  <tbody>\n",
       "    <tr>\n",
       "      <th>0</th>\n",
       "      <td>100046942</td>\n",
       "      <td>LIPITOR</td>\n",
       "      <td>0.0</td>\n",
       "    </tr>\n",
       "    <tr>\n",
       "      <th>1</th>\n",
       "      <td>100048622</td>\n",
       "      <td>LIPITOR</td>\n",
       "      <td>0.0</td>\n",
       "    </tr>\n",
       "    <tr>\n",
       "      <th>2</th>\n",
       "      <td>100051352</td>\n",
       "      <td>LIPITOR</td>\n",
       "      <td>0.0</td>\n",
       "    </tr>\n",
       "    <tr>\n",
       "      <th>3</th>\n",
       "      <td>100051382</td>\n",
       "      <td>LIPITOR</td>\n",
       "      <td>0.0</td>\n",
       "    </tr>\n",
       "    <tr>\n",
       "      <th>4</th>\n",
       "      <td>100051934</td>\n",
       "      <td>LIPITOR</td>\n",
       "      <td>0.0</td>\n",
       "    </tr>\n",
       "  </tbody>\n",
       "</table>\n",
       "</div>"
      ],
      "text/plain": [
       "   primaryid drugname  outc_cod\n",
       "0  100046942  LIPITOR       0.0\n",
       "1  100048622  LIPITOR       0.0\n",
       "2  100051352  LIPITOR       0.0\n",
       "3  100051382  LIPITOR       0.0\n",
       "4  100051934  LIPITOR       0.0"
      ]
     },
     "execution_count": 14,
     "metadata": {},
     "output_type": "execute_result"
    }
   ],
   "source": [
    "Lip_dead.head()"
   ]
  },
  {
   "cell_type": "code",
   "execution_count": 15,
   "metadata": {},
   "outputs": [
    {
     "data": {
      "text/plain": [
       "primaryid      0\n",
       "drugname       0\n",
       "outc_cod     757\n",
       "dtype: int64"
      ]
     },
     "execution_count": 15,
     "metadata": {},
     "output_type": "execute_result"
    }
   ],
   "source": [
    "Lip_dead.isnull().sum()"
   ]
  },
  {
   "cell_type": "code",
   "execution_count": 16,
   "metadata": {},
   "outputs": [],
   "source": [
    "Lip_dead=Lip_dead.fillna(0)"
   ]
  },
  {
   "cell_type": "markdown",
   "metadata": {},
   "source": [
    "# Demographic Data"
   ]
  },
  {
   "cell_type": "code",
   "execution_count": 17,
   "metadata": {
    "scrolled": false
   },
   "outputs": [
    {
     "data": {
      "text/html": [
       "<div>\n",
       "<style scoped>\n",
       "    .dataframe tbody tr th:only-of-type {\n",
       "        vertical-align: middle;\n",
       "    }\n",
       "\n",
       "    .dataframe tbody tr th {\n",
       "        vertical-align: top;\n",
       "    }\n",
       "\n",
       "    .dataframe thead th {\n",
       "        text-align: right;\n",
       "    }\n",
       "</style>\n",
       "<table border=\"1\" class=\"dataframe\">\n",
       "  <thead>\n",
       "    <tr style=\"text-align: right;\">\n",
       "      <th></th>\n",
       "      <th>primaryid</th>\n",
       "      <th>caseid</th>\n",
       "      <th>caseversion</th>\n",
       "      <th>i_f_code</th>\n",
       "      <th>event.dt1</th>\n",
       "      <th>mfr_dt</th>\n",
       "      <th>init_fda_dt</th>\n",
       "      <th>fda_dt</th>\n",
       "      <th>rept_cod</th>\n",
       "      <th>auth_num</th>\n",
       "      <th>...</th>\n",
       "      <th>age_grp</th>\n",
       "      <th>sex</th>\n",
       "      <th>e_sub</th>\n",
       "      <th>wt</th>\n",
       "      <th>wt_cod</th>\n",
       "      <th>rept.dt1</th>\n",
       "      <th>to_mfr</th>\n",
       "      <th>occp_cod</th>\n",
       "      <th>reporter_country</th>\n",
       "      <th>occr_country</th>\n",
       "    </tr>\n",
       "  </thead>\n",
       "  <tbody>\n",
       "    <tr>\n",
       "      <th>0</th>\n",
       "      <td>100046942</td>\n",
       "      <td>10004694</td>\n",
       "      <td>2</td>\n",
       "      <td>F</td>\n",
       "      <td>NaN</td>\n",
       "      <td>2020-01-08</td>\n",
       "      <td>2014-03-12</td>\n",
       "      <td>2020-01-10</td>\n",
       "      <td>EXP</td>\n",
       "      <td>NaN</td>\n",
       "      <td>...</td>\n",
       "      <td>NaN</td>\n",
       "      <td>F</td>\n",
       "      <td>Y</td>\n",
       "      <td>81.0</td>\n",
       "      <td>KG</td>\n",
       "      <td>2020-01-10</td>\n",
       "      <td>NaN</td>\n",
       "      <td>LW</td>\n",
       "      <td>US</td>\n",
       "      <td>US</td>\n",
       "    </tr>\n",
       "    <tr>\n",
       "      <th>1</th>\n",
       "      <td>100048206</td>\n",
       "      <td>10004820</td>\n",
       "      <td>6</td>\n",
       "      <td>F</td>\n",
       "      <td>NaN</td>\n",
       "      <td>2020-03-05</td>\n",
       "      <td>2014-03-12</td>\n",
       "      <td>2020-03-09</td>\n",
       "      <td>EXP</td>\n",
       "      <td>NaN</td>\n",
       "      <td>...</td>\n",
       "      <td>NaN</td>\n",
       "      <td>F</td>\n",
       "      <td>Y</td>\n",
       "      <td>NaN</td>\n",
       "      <td>NaN</td>\n",
       "      <td>2020-03-09</td>\n",
       "      <td>NaN</td>\n",
       "      <td>MD</td>\n",
       "      <td>US</td>\n",
       "      <td>US</td>\n",
       "    </tr>\n",
       "    <tr>\n",
       "      <th>2</th>\n",
       "      <td>100048622</td>\n",
       "      <td>10004862</td>\n",
       "      <td>2</td>\n",
       "      <td>F</td>\n",
       "      <td>2005-12-30</td>\n",
       "      <td>2020-03-12</td>\n",
       "      <td>2014-03-12</td>\n",
       "      <td>2020-03-16</td>\n",
       "      <td>EXP</td>\n",
       "      <td>NaN</td>\n",
       "      <td>...</td>\n",
       "      <td>NaN</td>\n",
       "      <td>F</td>\n",
       "      <td>Y</td>\n",
       "      <td>NaN</td>\n",
       "      <td>NaN</td>\n",
       "      <td>2020-03-16</td>\n",
       "      <td>NaN</td>\n",
       "      <td>LW</td>\n",
       "      <td>US</td>\n",
       "      <td>US</td>\n",
       "    </tr>\n",
       "    <tr>\n",
       "      <th>3</th>\n",
       "      <td>100051352</td>\n",
       "      <td>10005135</td>\n",
       "      <td>2</td>\n",
       "      <td>F</td>\n",
       "      <td>2006-09-22</td>\n",
       "      <td>2020-02-20</td>\n",
       "      <td>2014-03-12</td>\n",
       "      <td>2020-02-24</td>\n",
       "      <td>EXP</td>\n",
       "      <td>NaN</td>\n",
       "      <td>...</td>\n",
       "      <td>NaN</td>\n",
       "      <td>F</td>\n",
       "      <td>Y</td>\n",
       "      <td>NaN</td>\n",
       "      <td>NaN</td>\n",
       "      <td>2020-02-24</td>\n",
       "      <td>NaN</td>\n",
       "      <td>LW</td>\n",
       "      <td>US</td>\n",
       "      <td>US</td>\n",
       "    </tr>\n",
       "    <tr>\n",
       "      <th>4</th>\n",
       "      <td>100051382</td>\n",
       "      <td>10005138</td>\n",
       "      <td>2</td>\n",
       "      <td>F</td>\n",
       "      <td>1999-01-01</td>\n",
       "      <td>2020-01-08</td>\n",
       "      <td>2014-03-12</td>\n",
       "      <td>2020-01-10</td>\n",
       "      <td>EXP</td>\n",
       "      <td>NaN</td>\n",
       "      <td>...</td>\n",
       "      <td>NaN</td>\n",
       "      <td>F</td>\n",
       "      <td>Y</td>\n",
       "      <td>83.0</td>\n",
       "      <td>KG</td>\n",
       "      <td>2020-01-10</td>\n",
       "      <td>NaN</td>\n",
       "      <td>LW</td>\n",
       "      <td>US</td>\n",
       "      <td>US</td>\n",
       "    </tr>\n",
       "  </tbody>\n",
       "</table>\n",
       "<p>5 rows × 25 columns</p>\n",
       "</div>"
      ],
      "text/plain": [
       "   primaryid    caseid  caseversion i_f_code   event.dt1      mfr_dt  \\\n",
       "0  100046942  10004694            2        F         NaN  2020-01-08   \n",
       "1  100048206  10004820            6        F         NaN  2020-03-05   \n",
       "2  100048622  10004862            2        F  2005-12-30  2020-03-12   \n",
       "3  100051352  10005135            2        F  2006-09-22  2020-02-20   \n",
       "4  100051382  10005138            2        F  1999-01-01  2020-01-08   \n",
       "\n",
       "  init_fda_dt      fda_dt rept_cod auth_num  ... age_grp sex e_sub    wt  \\\n",
       "0  2014-03-12  2020-01-10      EXP      NaN  ...     NaN   F     Y  81.0   \n",
       "1  2014-03-12  2020-03-09      EXP      NaN  ...     NaN   F     Y   NaN   \n",
       "2  2014-03-12  2020-03-16      EXP      NaN  ...     NaN   F     Y   NaN   \n",
       "3  2014-03-12  2020-02-24      EXP      NaN  ...     NaN   F     Y   NaN   \n",
       "4  2014-03-12  2020-01-10      EXP      NaN  ...     NaN   F     Y  83.0   \n",
       "\n",
       "  wt_cod    rept.dt1 to_mfr occp_cod  reporter_country occr_country  \n",
       "0     KG  2020-01-10    NaN       LW                US           US  \n",
       "1    NaN  2020-03-09    NaN       MD                US           US  \n",
       "2    NaN  2020-03-16    NaN       LW                US           US  \n",
       "3    NaN  2020-02-24    NaN       LW                US           US  \n",
       "4     KG  2020-01-10    NaN       LW                US           US  \n",
       "\n",
       "[5 rows x 25 columns]"
      ]
     },
     "execution_count": 17,
     "metadata": {},
     "output_type": "execute_result"
    }
   ],
   "source": [
    "BDemog.head()"
   ]
  },
  {
   "cell_type": "code",
   "execution_count": 18,
   "metadata": {},
   "outputs": [
    {
     "name": "stdout",
     "output_type": "stream",
     "text": [
      "<class 'pandas.core.frame.DataFrame'>\n",
      "RangeIndex: 460327 entries, 0 to 460326\n",
      "Data columns (total 25 columns):\n",
      " #   Column            Non-Null Count   Dtype  \n",
      "---  ------            --------------   -----  \n",
      " 0   primaryid         460327 non-null  int64  \n",
      " 1   caseid            460327 non-null  int64  \n",
      " 2   caseversion       460327 non-null  int64  \n",
      " 3   i_f_code          460327 non-null  object \n",
      " 4   event.dt1         228204 non-null  object \n",
      " 5   mfr_dt            433208 non-null  object \n",
      " 6   init_fda_dt       460327 non-null  object \n",
      " 7   fda_dt            460327 non-null  object \n",
      " 8   rept_cod          460327 non-null  object \n",
      " 9   auth_num          27093 non-null   object \n",
      " 10  mfr_num           433214 non-null  object \n",
      " 11  mfr_sndr          460327 non-null  object \n",
      " 12  lit_ref           27325 non-null   object \n",
      " 13  age               270155 non-null  float64\n",
      " 14  age_cod           270168 non-null  object \n",
      " 15  age_grp           49034 non-null   object \n",
      " 16  sex               412646 non-null  object \n",
      " 17  e_sub             460327 non-null  object \n",
      " 18  wt                90617 non-null   float64\n",
      " 19  wt_cod            90617 non-null   object \n",
      " 20  rept.dt1          460110 non-null  object \n",
      " 21  to_mfr            27117 non-null   object \n",
      " 22  occp_cod          441654 non-null  object \n",
      " 23  reporter_country  460327 non-null  object \n",
      " 24  occr_country      460319 non-null  object \n",
      "dtypes: float64(2), int64(3), object(20)\n",
      "memory usage: 87.8+ MB\n"
     ]
    }
   ],
   "source": [
    "BDemog.info()"
   ]
  },
  {
   "cell_type": "code",
   "execution_count": 19,
   "metadata": {
    "scrolled": false
   },
   "outputs": [
    {
     "data": {
      "text/plain": [
       "Index(['primaryid', 'caseid', 'caseversion', 'i_f_code', 'event.dt1', 'mfr_dt',\n",
       "       'init_fda_dt', 'fda_dt', 'rept_cod', 'auth_num', 'mfr_num', 'mfr_sndr',\n",
       "       'lit_ref', 'age', 'age_cod', 'age_grp', 'sex', 'e_sub', 'wt', 'wt_cod',\n",
       "       'rept.dt1', 'to_mfr', 'occp_cod', 'reporter_country', 'occr_country'],\n",
       "      dtype='object')"
      ]
     },
     "execution_count": 19,
     "metadata": {},
     "output_type": "execute_result"
    }
   ],
   "source": [
    "BDemog.columns"
   ]
  },
  {
   "cell_type": "code",
   "execution_count": 20,
   "metadata": {},
   "outputs": [
    {
     "data": {
      "text/html": [
       "<div>\n",
       "<style scoped>\n",
       "    .dataframe tbody tr th:only-of-type {\n",
       "        vertical-align: middle;\n",
       "    }\n",
       "\n",
       "    .dataframe tbody tr th {\n",
       "        vertical-align: top;\n",
       "    }\n",
       "\n",
       "    .dataframe thead th {\n",
       "        text-align: right;\n",
       "    }\n",
       "</style>\n",
       "<table border=\"1\" class=\"dataframe\">\n",
       "  <thead>\n",
       "    <tr style=\"text-align: right;\">\n",
       "      <th></th>\n",
       "      <th>primaryid</th>\n",
       "      <th>i_f_code</th>\n",
       "      <th>age_grp</th>\n",
       "      <th>event.dt1</th>\n",
       "      <th>sex</th>\n",
       "      <th>rept_cod</th>\n",
       "      <th>wt</th>\n",
       "      <th>wt_cod</th>\n",
       "      <th>reporter_country</th>\n",
       "      <th>occr_country</th>\n",
       "    </tr>\n",
       "  </thead>\n",
       "  <tbody>\n",
       "    <tr>\n",
       "      <th>0</th>\n",
       "      <td>100046942</td>\n",
       "      <td>F</td>\n",
       "      <td>NaN</td>\n",
       "      <td>NaN</td>\n",
       "      <td>F</td>\n",
       "      <td>EXP</td>\n",
       "      <td>81.0</td>\n",
       "      <td>KG</td>\n",
       "      <td>US</td>\n",
       "      <td>US</td>\n",
       "    </tr>\n",
       "    <tr>\n",
       "      <th>1</th>\n",
       "      <td>100048206</td>\n",
       "      <td>F</td>\n",
       "      <td>NaN</td>\n",
       "      <td>NaN</td>\n",
       "      <td>F</td>\n",
       "      <td>EXP</td>\n",
       "      <td>NaN</td>\n",
       "      <td>NaN</td>\n",
       "      <td>US</td>\n",
       "      <td>US</td>\n",
       "    </tr>\n",
       "    <tr>\n",
       "      <th>2</th>\n",
       "      <td>100048622</td>\n",
       "      <td>F</td>\n",
       "      <td>NaN</td>\n",
       "      <td>2005-12-30</td>\n",
       "      <td>F</td>\n",
       "      <td>EXP</td>\n",
       "      <td>NaN</td>\n",
       "      <td>NaN</td>\n",
       "      <td>US</td>\n",
       "      <td>US</td>\n",
       "    </tr>\n",
       "    <tr>\n",
       "      <th>3</th>\n",
       "      <td>100051352</td>\n",
       "      <td>F</td>\n",
       "      <td>NaN</td>\n",
       "      <td>2006-09-22</td>\n",
       "      <td>F</td>\n",
       "      <td>EXP</td>\n",
       "      <td>NaN</td>\n",
       "      <td>NaN</td>\n",
       "      <td>US</td>\n",
       "      <td>US</td>\n",
       "    </tr>\n",
       "    <tr>\n",
       "      <th>4</th>\n",
       "      <td>100051382</td>\n",
       "      <td>F</td>\n",
       "      <td>NaN</td>\n",
       "      <td>1999-01-01</td>\n",
       "      <td>F</td>\n",
       "      <td>EXP</td>\n",
       "      <td>83.0</td>\n",
       "      <td>KG</td>\n",
       "      <td>US</td>\n",
       "      <td>US</td>\n",
       "    </tr>\n",
       "  </tbody>\n",
       "</table>\n",
       "</div>"
      ],
      "text/plain": [
       "   primaryid i_f_code age_grp   event.dt1 sex rept_cod    wt wt_cod  \\\n",
       "0  100046942        F     NaN         NaN   F      EXP  81.0     KG   \n",
       "1  100048206        F     NaN         NaN   F      EXP   NaN    NaN   \n",
       "2  100048622        F     NaN  2005-12-30   F      EXP   NaN    NaN   \n",
       "3  100051352        F     NaN  2006-09-22   F      EXP   NaN    NaN   \n",
       "4  100051382        F     NaN  1999-01-01   F      EXP  83.0     KG   \n",
       "\n",
       "  reporter_country occr_country  \n",
       "0               US           US  \n",
       "1               US           US  \n",
       "2               US           US  \n",
       "3               US           US  \n",
       "4               US           US  "
      ]
     },
     "execution_count": 20,
     "metadata": {},
     "output_type": "execute_result"
    }
   ],
   "source": [
    "Demog = BDemog[['primaryid', 'i_f_code','age_grp','event.dt1', 'sex','rept_cod','wt','wt_cod','reporter_country','occr_country']]\n",
    "Demog.head()"
   ]
  },
  {
   "cell_type": "markdown",
   "metadata": {},
   "source": [
    "## Merge Demog and Lipitor_Death"
   ]
  },
  {
   "cell_type": "code",
   "execution_count": 21,
   "metadata": {},
   "outputs": [
    {
     "data": {
      "text/html": [
       "<div>\n",
       "<style scoped>\n",
       "    .dataframe tbody tr th:only-of-type {\n",
       "        vertical-align: middle;\n",
       "    }\n",
       "\n",
       "    .dataframe tbody tr th {\n",
       "        vertical-align: top;\n",
       "    }\n",
       "\n",
       "    .dataframe thead th {\n",
       "        text-align: right;\n",
       "    }\n",
       "</style>\n",
       "<table border=\"1\" class=\"dataframe\">\n",
       "  <thead>\n",
       "    <tr style=\"text-align: right;\">\n",
       "      <th></th>\n",
       "      <th>primaryid</th>\n",
       "      <th>drugname</th>\n",
       "      <th>outc_cod</th>\n",
       "      <th>i_f_code</th>\n",
       "      <th>age_grp</th>\n",
       "      <th>event.dt1</th>\n",
       "      <th>sex</th>\n",
       "      <th>rept_cod</th>\n",
       "      <th>wt</th>\n",
       "      <th>wt_cod</th>\n",
       "      <th>reporter_country</th>\n",
       "      <th>occr_country</th>\n",
       "    </tr>\n",
       "  </thead>\n",
       "  <tbody>\n",
       "    <tr>\n",
       "      <th>0</th>\n",
       "      <td>100046942</td>\n",
       "      <td>LIPITOR</td>\n",
       "      <td>0.0</td>\n",
       "      <td>F</td>\n",
       "      <td>NaN</td>\n",
       "      <td>NaN</td>\n",
       "      <td>F</td>\n",
       "      <td>EXP</td>\n",
       "      <td>81.0</td>\n",
       "      <td>KG</td>\n",
       "      <td>US</td>\n",
       "      <td>US</td>\n",
       "    </tr>\n",
       "    <tr>\n",
       "      <th>1</th>\n",
       "      <td>100048622</td>\n",
       "      <td>LIPITOR</td>\n",
       "      <td>0.0</td>\n",
       "      <td>F</td>\n",
       "      <td>NaN</td>\n",
       "      <td>2005-12-30</td>\n",
       "      <td>F</td>\n",
       "      <td>EXP</td>\n",
       "      <td>NaN</td>\n",
       "      <td>NaN</td>\n",
       "      <td>US</td>\n",
       "      <td>US</td>\n",
       "    </tr>\n",
       "    <tr>\n",
       "      <th>2</th>\n",
       "      <td>100051352</td>\n",
       "      <td>LIPITOR</td>\n",
       "      <td>0.0</td>\n",
       "      <td>F</td>\n",
       "      <td>NaN</td>\n",
       "      <td>2006-09-22</td>\n",
       "      <td>F</td>\n",
       "      <td>EXP</td>\n",
       "      <td>NaN</td>\n",
       "      <td>NaN</td>\n",
       "      <td>US</td>\n",
       "      <td>US</td>\n",
       "    </tr>\n",
       "    <tr>\n",
       "      <th>3</th>\n",
       "      <td>100051382</td>\n",
       "      <td>LIPITOR</td>\n",
       "      <td>0.0</td>\n",
       "      <td>F</td>\n",
       "      <td>NaN</td>\n",
       "      <td>1999-01-01</td>\n",
       "      <td>F</td>\n",
       "      <td>EXP</td>\n",
       "      <td>83.0</td>\n",
       "      <td>KG</td>\n",
       "      <td>US</td>\n",
       "      <td>US</td>\n",
       "    </tr>\n",
       "    <tr>\n",
       "      <th>4</th>\n",
       "      <td>100051934</td>\n",
       "      <td>LIPITOR</td>\n",
       "      <td>0.0</td>\n",
       "      <td>F</td>\n",
       "      <td>NaN</td>\n",
       "      <td>2012-09-10</td>\n",
       "      <td>NaN</td>\n",
       "      <td>EXP</td>\n",
       "      <td>48.0</td>\n",
       "      <td>KG</td>\n",
       "      <td>US</td>\n",
       "      <td>US</td>\n",
       "    </tr>\n",
       "  </tbody>\n",
       "</table>\n",
       "</div>"
      ],
      "text/plain": [
       "   primaryid drugname  outc_cod i_f_code age_grp   event.dt1  sex rept_cod  \\\n",
       "0  100046942  LIPITOR       0.0        F     NaN         NaN    F      EXP   \n",
       "1  100048622  LIPITOR       0.0        F     NaN  2005-12-30    F      EXP   \n",
       "2  100051352  LIPITOR       0.0        F     NaN  2006-09-22    F      EXP   \n",
       "3  100051382  LIPITOR       0.0        F     NaN  1999-01-01    F      EXP   \n",
       "4  100051934  LIPITOR       0.0        F     NaN  2012-09-10  NaN      EXP   \n",
       "\n",
       "     wt wt_cod reporter_country occr_country  \n",
       "0  81.0     KG               US           US  \n",
       "1   NaN    NaN               US           US  \n",
       "2   NaN    NaN               US           US  \n",
       "3  83.0     KG               US           US  \n",
       "4  48.0     KG               US           US  "
      ]
     },
     "execution_count": 21,
     "metadata": {},
     "output_type": "execute_result"
    }
   ],
   "source": [
    "df=pd.merge(left=Lip_dead, right=Demog,on='primaryid',how='left')\n",
    "df.head()"
   ]
  },
  {
   "cell_type": "code",
   "execution_count": 22,
   "metadata": {
    "scrolled": false
   },
   "outputs": [
    {
     "name": "stdout",
     "output_type": "stream",
     "text": [
      "<class 'pandas.core.frame.DataFrame'>\n",
      "Int64Index: 3955 entries, 0 to 3954\n",
      "Data columns (total 12 columns):\n",
      " #   Column            Non-Null Count  Dtype  \n",
      "---  ------            --------------  -----  \n",
      " 0   primaryid         3955 non-null   int64  \n",
      " 1   drugname          3955 non-null   object \n",
      " 2   outc_cod          3955 non-null   float64\n",
      " 3   i_f_code          3955 non-null   object \n",
      " 4   age_grp           269 non-null    object \n",
      " 5   event.dt1         2726 non-null   object \n",
      " 6   sex               3728 non-null   object \n",
      " 7   rept_cod          3955 non-null   object \n",
      " 8   wt                1939 non-null   float64\n",
      " 9   wt_cod            1939 non-null   object \n",
      " 10  reporter_country  3955 non-null   object \n",
      " 11  occr_country      3955 non-null   object \n",
      "dtypes: float64(2), int64(1), object(9)\n",
      "memory usage: 401.7+ KB\n"
     ]
    }
   ],
   "source": [
    "df.info()"
   ]
  },
  {
   "cell_type": "code",
   "execution_count": 23,
   "metadata": {},
   "outputs": [],
   "source": [
    "df['event.dt1'] = pd.to_datetime(df['event.dt1'])"
   ]
  },
  {
   "cell_type": "code",
   "execution_count": 24,
   "metadata": {
    "scrolled": true
   },
   "outputs": [
    {
     "name": "stdout",
     "output_type": "stream",
     "text": [
      "<class 'pandas.core.frame.DataFrame'>\n",
      "Int64Index: 3955 entries, 0 to 3954\n",
      "Data columns (total 12 columns):\n",
      " #   Column            Non-Null Count  Dtype         \n",
      "---  ------            --------------  -----         \n",
      " 0   primaryid         3955 non-null   int64         \n",
      " 1   drugname          3955 non-null   object        \n",
      " 2   outc_cod          3955 non-null   float64       \n",
      " 3   i_f_code          3955 non-null   object        \n",
      " 4   age_grp           269 non-null    object        \n",
      " 5   event.dt1         2726 non-null   datetime64[ns]\n",
      " 6   sex               3728 non-null   object        \n",
      " 7   rept_cod          3955 non-null   object        \n",
      " 8   wt                1939 non-null   float64       \n",
      " 9   wt_cod            1939 non-null   object        \n",
      " 10  reporter_country  3955 non-null   object        \n",
      " 11  occr_country      3955 non-null   object        \n",
      "dtypes: datetime64[ns](1), float64(2), int64(1), object(8)\n",
      "memory usage: 401.7+ KB\n"
     ]
    }
   ],
   "source": [
    "df.info()"
   ]
  },
  {
   "cell_type": "markdown",
   "metadata": {},
   "source": [
    "# Cleaning"
   ]
  },
  {
   "cell_type": "markdown",
   "metadata": {},
   "source": [
    "### Replace lipitor with 1"
   ]
  },
  {
   "cell_type": "code",
   "execution_count": 25,
   "metadata": {},
   "outputs": [],
   "source": [
    "df['drugname']=df['drugname'].replace({'LIPITOR': 1})"
   ]
  },
  {
   "cell_type": "code",
   "execution_count": 26,
   "metadata": {},
   "outputs": [
    {
     "data": {
      "text/plain": [
       "array(['F', 'I'], dtype=object)"
      ]
     },
     "execution_count": 26,
     "metadata": {},
     "output_type": "execute_result"
    }
   ],
   "source": [
    "df.i_f_code.unique()"
   ]
  },
  {
   "cell_type": "markdown",
   "metadata": {},
   "source": [
    "### Fill nan values in age group with unknown"
   ]
  },
  {
   "cell_type": "code",
   "execution_count": 27,
   "metadata": {},
   "outputs": [
    {
     "data": {
      "text/plain": [
       "array([nan, 'A', 'E'], dtype=object)"
      ]
     },
     "execution_count": 27,
     "metadata": {},
     "output_type": "execute_result"
    }
   ],
   "source": [
    "df.age_grp.unique()"
   ]
  },
  {
   "cell_type": "code",
   "execution_count": 28,
   "metadata": {},
   "outputs": [],
   "source": [
    "df.age_grp = df.age_grp.fillna('UNK')"
   ]
  },
  {
   "cell_type": "markdown",
   "metadata": {},
   "source": [
    "### Fill nan values in sex with unknown"
   ]
  },
  {
   "cell_type": "code",
   "execution_count": 29,
   "metadata": {},
   "outputs": [
    {
     "data": {
      "text/plain": [
       "array(['F', nan, 'M'], dtype=object)"
      ]
     },
     "execution_count": 29,
     "metadata": {},
     "output_type": "execute_result"
    }
   ],
   "source": [
    "df.sex.unique()"
   ]
  },
  {
   "cell_type": "code",
   "execution_count": 30,
   "metadata": {},
   "outputs": [],
   "source": [
    "df.sex = df.sex.fillna('UNK')"
   ]
  },
  {
   "cell_type": "markdown",
   "metadata": {},
   "source": [
    "### Fill nan values in weight with mean of KG"
   ]
  },
  {
   "cell_type": "code",
   "execution_count": 31,
   "metadata": {},
   "outputs": [
    {
     "data": {
      "text/plain": [
       "array(['KG', nan, 'LBS'], dtype=object)"
      ]
     },
     "execution_count": 31,
     "metadata": {},
     "output_type": "execute_result"
    }
   ],
   "source": [
    "df.wt_cod.unique()"
   ]
  },
  {
   "cell_type": "code",
   "execution_count": 32,
   "metadata": {},
   "outputs": [
    {
     "data": {
      "text/plain": [
       "KG     1935\n",
       "LBS       4\n",
       "Name: wt_cod, dtype: int64"
      ]
     },
     "execution_count": 32,
     "metadata": {},
     "output_type": "execute_result"
    }
   ],
   "source": [
    "df.wt_cod.value_counts()"
   ]
  },
  {
   "cell_type": "code",
   "execution_count": 33,
   "metadata": {},
   "outputs": [],
   "source": [
    "pound=df[df.wt_cod=='LBS']"
   ]
  },
  {
   "cell_type": "code",
   "execution_count": 34,
   "metadata": {
    "scrolled": false
   },
   "outputs": [
    {
     "data": {
      "text/html": [
       "<div>\n",
       "<style scoped>\n",
       "    .dataframe tbody tr th:only-of-type {\n",
       "        vertical-align: middle;\n",
       "    }\n",
       "\n",
       "    .dataframe tbody tr th {\n",
       "        vertical-align: top;\n",
       "    }\n",
       "\n",
       "    .dataframe thead th {\n",
       "        text-align: right;\n",
       "    }\n",
       "</style>\n",
       "<table border=\"1\" class=\"dataframe\">\n",
       "  <thead>\n",
       "    <tr style=\"text-align: right;\">\n",
       "      <th></th>\n",
       "      <th>primaryid</th>\n",
       "      <th>drugname</th>\n",
       "      <th>outc_cod</th>\n",
       "      <th>i_f_code</th>\n",
       "      <th>age_grp</th>\n",
       "      <th>event.dt1</th>\n",
       "      <th>sex</th>\n",
       "      <th>rept_cod</th>\n",
       "      <th>wt</th>\n",
       "      <th>wt_cod</th>\n",
       "      <th>reporter_country</th>\n",
       "      <th>occr_country</th>\n",
       "    </tr>\n",
       "  </thead>\n",
       "  <tbody>\n",
       "    <tr>\n",
       "      <th>2157</th>\n",
       "      <td>172487971</td>\n",
       "      <td>1</td>\n",
       "      <td>0.0</td>\n",
       "      <td>I</td>\n",
       "      <td>UNK</td>\n",
       "      <td>2019-12-14</td>\n",
       "      <td>M</td>\n",
       "      <td>DIR</td>\n",
       "      <td>118.0</td>\n",
       "      <td>LBS</td>\n",
       "      <td>US</td>\n",
       "      <td>US</td>\n",
       "    </tr>\n",
       "    <tr>\n",
       "      <th>2625</th>\n",
       "      <td>173475581</td>\n",
       "      <td>1</td>\n",
       "      <td>0.0</td>\n",
       "      <td>I</td>\n",
       "      <td>UNK</td>\n",
       "      <td>2019-12-06</td>\n",
       "      <td>F</td>\n",
       "      <td>DIR</td>\n",
       "      <td>120.0</td>\n",
       "      <td>LBS</td>\n",
       "      <td>US</td>\n",
       "      <td>US</td>\n",
       "    </tr>\n",
       "    <tr>\n",
       "      <th>2626</th>\n",
       "      <td>173475581</td>\n",
       "      <td>1</td>\n",
       "      <td>0.0</td>\n",
       "      <td>I</td>\n",
       "      <td>UNK</td>\n",
       "      <td>2019-12-06</td>\n",
       "      <td>F</td>\n",
       "      <td>DIR</td>\n",
       "      <td>120.0</td>\n",
       "      <td>LBS</td>\n",
       "      <td>US</td>\n",
       "      <td>US</td>\n",
       "    </tr>\n",
       "    <tr>\n",
       "      <th>2627</th>\n",
       "      <td>173475581</td>\n",
       "      <td>1</td>\n",
       "      <td>0.0</td>\n",
       "      <td>I</td>\n",
       "      <td>UNK</td>\n",
       "      <td>2019-12-06</td>\n",
       "      <td>F</td>\n",
       "      <td>DIR</td>\n",
       "      <td>120.0</td>\n",
       "      <td>LBS</td>\n",
       "      <td>US</td>\n",
       "      <td>US</td>\n",
       "    </tr>\n",
       "  </tbody>\n",
       "</table>\n",
       "</div>"
      ],
      "text/plain": [
       "      primaryid  drugname  outc_cod i_f_code age_grp  event.dt1 sex rept_cod  \\\n",
       "2157  172487971         1       0.0        I     UNK 2019-12-14   M      DIR   \n",
       "2625  173475581         1       0.0        I     UNK 2019-12-06   F      DIR   \n",
       "2626  173475581         1       0.0        I     UNK 2019-12-06   F      DIR   \n",
       "2627  173475581         1       0.0        I     UNK 2019-12-06   F      DIR   \n",
       "\n",
       "         wt wt_cod reporter_country occr_country  \n",
       "2157  118.0    LBS               US           US  \n",
       "2625  120.0    LBS               US           US  \n",
       "2626  120.0    LBS               US           US  \n",
       "2627  120.0    LBS               US           US  "
      ]
     },
     "execution_count": 34,
     "metadata": {},
     "output_type": "execute_result"
    }
   ],
   "source": [
    "pound.head()"
   ]
  },
  {
   "cell_type": "code",
   "execution_count": 35,
   "metadata": {
    "scrolled": true
   },
   "outputs": [
    {
     "data": {
      "text/plain": [
       "83"
      ]
     },
     "execution_count": 35,
     "metadata": {},
     "output_type": "execute_result"
    }
   ],
   "source": [
    "meankg=round(df[df.wt_cod=='KG'].wt.mean())\n",
    "meankg"
   ]
  },
  {
   "cell_type": "code",
   "execution_count": 36,
   "metadata": {},
   "outputs": [],
   "source": [
    "df.wt=df.wt.fillna(83)\n",
    "df.wt_cod=df.wt_cod.fillna('KG')"
   ]
  },
  {
   "cell_type": "code",
   "execution_count": 37,
   "metadata": {},
   "outputs": [
    {
     "data": {
      "text/plain": [
       "array(['EXP', 'PER', 'DIR'], dtype=object)"
      ]
     },
     "execution_count": 37,
     "metadata": {},
     "output_type": "execute_result"
    }
   ],
   "source": [
    "df.rept_cod.unique()"
   ]
  },
  {
   "cell_type": "code",
   "execution_count": 38,
   "metadata": {
    "scrolled": false
   },
   "outputs": [
    {
     "data": {
      "text/plain": [
       "array(['US', 'CA', 'JP', 'BR', 'IL', 'COUNTRY NOT SPECIFIED', 'BE', 'AU',\n",
       "       'KR', 'NO', 'PR', 'CN', 'TR', 'IE', 'SE', 'GT', 'HN', 'HK', 'KW',\n",
       "       'MX', 'LB', 'NL', 'GR', 'GB', 'AF', 'TW', 'CH', 'TH'], dtype=object)"
      ]
     },
     "execution_count": 38,
     "metadata": {},
     "output_type": "execute_result"
    }
   ],
   "source": [
    "df.reporter_country.unique()"
   ]
  },
  {
   "cell_type": "code",
   "execution_count": 39,
   "metadata": {
    "scrolled": true
   },
   "outputs": [
    {
     "data": {
      "text/plain": [
       "array(['US', 'CA', 'JP', 'BR', 'IL', 'BE', 'AU', 'KR', 'NO', 'PR', 'CN',\n",
       "       'TR', 'SE', 'GT', 'HN', 'HK', 'KW', 'MX', 'LB', 'NL', 'GR', 'GB',\n",
       "       'AF', 'SG', 'IE', 'TW', 'TH'], dtype=object)"
      ]
     },
     "execution_count": 39,
     "metadata": {},
     "output_type": "execute_result"
    }
   ],
   "source": [
    "df.occr_country.unique()"
   ]
  },
  {
   "cell_type": "code",
   "execution_count": 40,
   "metadata": {
    "scrolled": false
   },
   "outputs": [
    {
     "name": "stdout",
     "output_type": "stream",
     "text": [
      "<class 'pandas.core.frame.DataFrame'>\n",
      "Int64Index: 3955 entries, 0 to 3954\n",
      "Data columns (total 12 columns):\n",
      " #   Column            Non-Null Count  Dtype         \n",
      "---  ------            --------------  -----         \n",
      " 0   primaryid         3955 non-null   int64         \n",
      " 1   drugname          3955 non-null   int64         \n",
      " 2   outc_cod          3955 non-null   float64       \n",
      " 3   i_f_code          3955 non-null   object        \n",
      " 4   age_grp           3955 non-null   object        \n",
      " 5   event.dt1         2726 non-null   datetime64[ns]\n",
      " 6   sex               3955 non-null   object        \n",
      " 7   rept_cod          3955 non-null   object        \n",
      " 8   wt                3955 non-null   float64       \n",
      " 9   wt_cod            3955 non-null   object        \n",
      " 10  reporter_country  3955 non-null   object        \n",
      " 11  occr_country      3955 non-null   object        \n",
      "dtypes: datetime64[ns](1), float64(2), int64(2), object(7)\n",
      "memory usage: 401.7+ KB\n"
     ]
    }
   ],
   "source": [
    "df.info()"
   ]
  },
  {
   "cell_type": "code",
   "execution_count": 41,
   "metadata": {},
   "outputs": [
    {
     "data": {
      "text/html": [
       "<div>\n",
       "<style scoped>\n",
       "    .dataframe tbody tr th:only-of-type {\n",
       "        vertical-align: middle;\n",
       "    }\n",
       "\n",
       "    .dataframe tbody tr th {\n",
       "        vertical-align: top;\n",
       "    }\n",
       "\n",
       "    .dataframe thead th {\n",
       "        text-align: right;\n",
       "    }\n",
       "</style>\n",
       "<table border=\"1\" class=\"dataframe\">\n",
       "  <thead>\n",
       "    <tr style=\"text-align: right;\">\n",
       "      <th></th>\n",
       "      <th>primaryid</th>\n",
       "      <th>drugname</th>\n",
       "      <th>outc_cod</th>\n",
       "      <th>i_f_code</th>\n",
       "      <th>age_grp</th>\n",
       "      <th>event.dt1</th>\n",
       "      <th>sex</th>\n",
       "      <th>rept_cod</th>\n",
       "      <th>wt</th>\n",
       "      <th>wt_cod</th>\n",
       "      <th>reporter_country</th>\n",
       "      <th>occr_country</th>\n",
       "    </tr>\n",
       "  </thead>\n",
       "  <tbody>\n",
       "    <tr>\n",
       "      <th>3810</th>\n",
       "      <td>68189135</td>\n",
       "      <td>1</td>\n",
       "      <td>0.0</td>\n",
       "      <td>F</td>\n",
       "      <td>UNK</td>\n",
       "      <td>NaT</td>\n",
       "      <td>M</td>\n",
       "      <td>EXP</td>\n",
       "      <td>83.00</td>\n",
       "      <td>KG</td>\n",
       "      <td>NO</td>\n",
       "      <td>NO</td>\n",
       "    </tr>\n",
       "    <tr>\n",
       "      <th>3809</th>\n",
       "      <td>68189135</td>\n",
       "      <td>1</td>\n",
       "      <td>0.0</td>\n",
       "      <td>F</td>\n",
       "      <td>UNK</td>\n",
       "      <td>NaT</td>\n",
       "      <td>M</td>\n",
       "      <td>EXP</td>\n",
       "      <td>83.00</td>\n",
       "      <td>KG</td>\n",
       "      <td>NO</td>\n",
       "      <td>NO</td>\n",
       "    </tr>\n",
       "    <tr>\n",
       "      <th>3815</th>\n",
       "      <td>71855114</td>\n",
       "      <td>1</td>\n",
       "      <td>0.0</td>\n",
       "      <td>F</td>\n",
       "      <td>UNK</td>\n",
       "      <td>2009-01-01</td>\n",
       "      <td>F</td>\n",
       "      <td>EXP</td>\n",
       "      <td>83.00</td>\n",
       "      <td>KG</td>\n",
       "      <td>NL</td>\n",
       "      <td>NL</td>\n",
       "    </tr>\n",
       "    <tr>\n",
       "      <th>3816</th>\n",
       "      <td>71855114</td>\n",
       "      <td>1</td>\n",
       "      <td>0.0</td>\n",
       "      <td>F</td>\n",
       "      <td>UNK</td>\n",
       "      <td>2009-01-01</td>\n",
       "      <td>F</td>\n",
       "      <td>EXP</td>\n",
       "      <td>83.00</td>\n",
       "      <td>KG</td>\n",
       "      <td>NL</td>\n",
       "      <td>NL</td>\n",
       "    </tr>\n",
       "    <tr>\n",
       "      <th>3826</th>\n",
       "      <td>86164526</td>\n",
       "      <td>1</td>\n",
       "      <td>0.0</td>\n",
       "      <td>F</td>\n",
       "      <td>UNK</td>\n",
       "      <td>2007-10-10</td>\n",
       "      <td>F</td>\n",
       "      <td>EXP</td>\n",
       "      <td>64.90</td>\n",
       "      <td>KG</td>\n",
       "      <td>US</td>\n",
       "      <td>US</td>\n",
       "    </tr>\n",
       "    <tr>\n",
       "      <th>3825</th>\n",
       "      <td>86164526</td>\n",
       "      <td>1</td>\n",
       "      <td>0.0</td>\n",
       "      <td>F</td>\n",
       "      <td>UNK</td>\n",
       "      <td>2007-10-10</td>\n",
       "      <td>F</td>\n",
       "      <td>EXP</td>\n",
       "      <td>64.90</td>\n",
       "      <td>KG</td>\n",
       "      <td>US</td>\n",
       "      <td>US</td>\n",
       "    </tr>\n",
       "    <tr>\n",
       "      <th>3827</th>\n",
       "      <td>86164526</td>\n",
       "      <td>1</td>\n",
       "      <td>0.0</td>\n",
       "      <td>F</td>\n",
       "      <td>UNK</td>\n",
       "      <td>2007-10-10</td>\n",
       "      <td>F</td>\n",
       "      <td>EXP</td>\n",
       "      <td>64.90</td>\n",
       "      <td>KG</td>\n",
       "      <td>US</td>\n",
       "      <td>US</td>\n",
       "    </tr>\n",
       "    <tr>\n",
       "      <th>3830</th>\n",
       "      <td>87747743</td>\n",
       "      <td>1</td>\n",
       "      <td>0.0</td>\n",
       "      <td>F</td>\n",
       "      <td>UNK</td>\n",
       "      <td>NaT</td>\n",
       "      <td>F</td>\n",
       "      <td>EXP</td>\n",
       "      <td>45.81</td>\n",
       "      <td>KG</td>\n",
       "      <td>US</td>\n",
       "      <td>US</td>\n",
       "    </tr>\n",
       "    <tr>\n",
       "      <th>3831</th>\n",
       "      <td>91037475</td>\n",
       "      <td>1</td>\n",
       "      <td>0.0</td>\n",
       "      <td>F</td>\n",
       "      <td>A</td>\n",
       "      <td>2011-01-01</td>\n",
       "      <td>F</td>\n",
       "      <td>PER</td>\n",
       "      <td>83.00</td>\n",
       "      <td>KG</td>\n",
       "      <td>BR</td>\n",
       "      <td>BR</td>\n",
       "    </tr>\n",
       "    <tr>\n",
       "      <th>3832</th>\n",
       "      <td>91037475</td>\n",
       "      <td>1</td>\n",
       "      <td>0.0</td>\n",
       "      <td>F</td>\n",
       "      <td>A</td>\n",
       "      <td>2011-01-01</td>\n",
       "      <td>F</td>\n",
       "      <td>PER</td>\n",
       "      <td>83.00</td>\n",
       "      <td>KG</td>\n",
       "      <td>BR</td>\n",
       "      <td>BR</td>\n",
       "    </tr>\n",
       "    <tr>\n",
       "      <th>3833</th>\n",
       "      <td>93350323</td>\n",
       "      <td>1</td>\n",
       "      <td>0.0</td>\n",
       "      <td>F</td>\n",
       "      <td>UNK</td>\n",
       "      <td>2012-11-01</td>\n",
       "      <td>M</td>\n",
       "      <td>EXP</td>\n",
       "      <td>83.90</td>\n",
       "      <td>KG</td>\n",
       "      <td>US</td>\n",
       "      <td>US</td>\n",
       "    </tr>\n",
       "    <tr>\n",
       "      <th>3834</th>\n",
       "      <td>93350323</td>\n",
       "      <td>1</td>\n",
       "      <td>0.0</td>\n",
       "      <td>F</td>\n",
       "      <td>UNK</td>\n",
       "      <td>2012-11-01</td>\n",
       "      <td>M</td>\n",
       "      <td>EXP</td>\n",
       "      <td>83.90</td>\n",
       "      <td>KG</td>\n",
       "      <td>US</td>\n",
       "      <td>US</td>\n",
       "    </tr>\n",
       "    <tr>\n",
       "      <th>3835</th>\n",
       "      <td>93611677</td>\n",
       "      <td>1</td>\n",
       "      <td>0.0</td>\n",
       "      <td>F</td>\n",
       "      <td>UNK</td>\n",
       "      <td>NaT</td>\n",
       "      <td>F</td>\n",
       "      <td>PER</td>\n",
       "      <td>49.00</td>\n",
       "      <td>KG</td>\n",
       "      <td>US</td>\n",
       "      <td>US</td>\n",
       "    </tr>\n",
       "    <tr>\n",
       "      <th>3836</th>\n",
       "      <td>94680172</td>\n",
       "      <td>1</td>\n",
       "      <td>0.0</td>\n",
       "      <td>F</td>\n",
       "      <td>UNK</td>\n",
       "      <td>2007-01-01</td>\n",
       "      <td>F</td>\n",
       "      <td>EXP</td>\n",
       "      <td>83.00</td>\n",
       "      <td>KG</td>\n",
       "      <td>US</td>\n",
       "      <td>US</td>\n",
       "    </tr>\n",
       "    <tr>\n",
       "      <th>3839</th>\n",
       "      <td>95632719</td>\n",
       "      <td>1</td>\n",
       "      <td>0.0</td>\n",
       "      <td>F</td>\n",
       "      <td>UNK</td>\n",
       "      <td>2012-02-01</td>\n",
       "      <td>F</td>\n",
       "      <td>EXP</td>\n",
       "      <td>69.00</td>\n",
       "      <td>KG</td>\n",
       "      <td>CA</td>\n",
       "      <td>CA</td>\n",
       "    </tr>\n",
       "    <tr>\n",
       "      <th>3840</th>\n",
       "      <td>95632719</td>\n",
       "      <td>1</td>\n",
       "      <td>0.0</td>\n",
       "      <td>F</td>\n",
       "      <td>UNK</td>\n",
       "      <td>2012-02-01</td>\n",
       "      <td>F</td>\n",
       "      <td>EXP</td>\n",
       "      <td>69.00</td>\n",
       "      <td>KG</td>\n",
       "      <td>CA</td>\n",
       "      <td>CA</td>\n",
       "    </tr>\n",
       "    <tr>\n",
       "      <th>3841</th>\n",
       "      <td>95632719</td>\n",
       "      <td>1</td>\n",
       "      <td>0.0</td>\n",
       "      <td>F</td>\n",
       "      <td>UNK</td>\n",
       "      <td>2012-02-01</td>\n",
       "      <td>F</td>\n",
       "      <td>EXP</td>\n",
       "      <td>69.00</td>\n",
       "      <td>KG</td>\n",
       "      <td>CA</td>\n",
       "      <td>CA</td>\n",
       "    </tr>\n",
       "    <tr>\n",
       "      <th>3842</th>\n",
       "      <td>95632719</td>\n",
       "      <td>1</td>\n",
       "      <td>0.0</td>\n",
       "      <td>F</td>\n",
       "      <td>UNK</td>\n",
       "      <td>2012-02-01</td>\n",
       "      <td>F</td>\n",
       "      <td>EXP</td>\n",
       "      <td>69.00</td>\n",
       "      <td>KG</td>\n",
       "      <td>CA</td>\n",
       "      <td>CA</td>\n",
       "    </tr>\n",
       "    <tr>\n",
       "      <th>3844</th>\n",
       "      <td>95931523</td>\n",
       "      <td>1</td>\n",
       "      <td>0.0</td>\n",
       "      <td>F</td>\n",
       "      <td>UNK</td>\n",
       "      <td>2010-10-01</td>\n",
       "      <td>F</td>\n",
       "      <td>EXP</td>\n",
       "      <td>90.70</td>\n",
       "      <td>KG</td>\n",
       "      <td>US</td>\n",
       "      <td>US</td>\n",
       "    </tr>\n",
       "    <tr>\n",
       "      <th>3846</th>\n",
       "      <td>96025232</td>\n",
       "      <td>1</td>\n",
       "      <td>1.0</td>\n",
       "      <td>F</td>\n",
       "      <td>UNK</td>\n",
       "      <td>2006-07-21</td>\n",
       "      <td>F</td>\n",
       "      <td>EXP</td>\n",
       "      <td>67.12</td>\n",
       "      <td>KG</td>\n",
       "      <td>US</td>\n",
       "      <td>US</td>\n",
       "    </tr>\n",
       "  </tbody>\n",
       "</table>\n",
       "</div>"
      ],
      "text/plain": [
       "      primaryid  drugname  outc_cod i_f_code age_grp  event.dt1 sex rept_cod  \\\n",
       "3810   68189135         1       0.0        F     UNK        NaT   M      EXP   \n",
       "3809   68189135         1       0.0        F     UNK        NaT   M      EXP   \n",
       "3815   71855114         1       0.0        F     UNK 2009-01-01   F      EXP   \n",
       "3816   71855114         1       0.0        F     UNK 2009-01-01   F      EXP   \n",
       "3826   86164526         1       0.0        F     UNK 2007-10-10   F      EXP   \n",
       "3825   86164526         1       0.0        F     UNK 2007-10-10   F      EXP   \n",
       "3827   86164526         1       0.0        F     UNK 2007-10-10   F      EXP   \n",
       "3830   87747743         1       0.0        F     UNK        NaT   F      EXP   \n",
       "3831   91037475         1       0.0        F       A 2011-01-01   F      PER   \n",
       "3832   91037475         1       0.0        F       A 2011-01-01   F      PER   \n",
       "3833   93350323         1       0.0        F     UNK 2012-11-01   M      EXP   \n",
       "3834   93350323         1       0.0        F     UNK 2012-11-01   M      EXP   \n",
       "3835   93611677         1       0.0        F     UNK        NaT   F      PER   \n",
       "3836   94680172         1       0.0        F     UNK 2007-01-01   F      EXP   \n",
       "3839   95632719         1       0.0        F     UNK 2012-02-01   F      EXP   \n",
       "3840   95632719         1       0.0        F     UNK 2012-02-01   F      EXP   \n",
       "3841   95632719         1       0.0        F     UNK 2012-02-01   F      EXP   \n",
       "3842   95632719         1       0.0        F     UNK 2012-02-01   F      EXP   \n",
       "3844   95931523         1       0.0        F     UNK 2010-10-01   F      EXP   \n",
       "3846   96025232         1       1.0        F     UNK 2006-07-21   F      EXP   \n",
       "\n",
       "         wt wt_cod reporter_country occr_country  \n",
       "3810  83.00     KG               NO           NO  \n",
       "3809  83.00     KG               NO           NO  \n",
       "3815  83.00     KG               NL           NL  \n",
       "3816  83.00     KG               NL           NL  \n",
       "3826  64.90     KG               US           US  \n",
       "3825  64.90     KG               US           US  \n",
       "3827  64.90     KG               US           US  \n",
       "3830  45.81     KG               US           US  \n",
       "3831  83.00     KG               BR           BR  \n",
       "3832  83.00     KG               BR           BR  \n",
       "3833  83.90     KG               US           US  \n",
       "3834  83.90     KG               US           US  \n",
       "3835  49.00     KG               US           US  \n",
       "3836  83.00     KG               US           US  \n",
       "3839  69.00     KG               CA           CA  \n",
       "3840  69.00     KG               CA           CA  \n",
       "3841  69.00     KG               CA           CA  \n",
       "3842  69.00     KG               CA           CA  \n",
       "3844  90.70     KG               US           US  \n",
       "3846  67.12     KG               US           US  "
      ]
     },
     "execution_count": 41,
     "metadata": {},
     "output_type": "execute_result"
    }
   ],
   "source": [
    "df=df.sort_values(by=['primaryid'], ascending = True)\n",
    "df.head(20)"
   ]
  },
  {
   "cell_type": "code",
   "execution_count": 42,
   "metadata": {},
   "outputs": [],
   "source": [
    "df['Event_Year'] = df['event.dt1'].dt.year\n",
    "df['Event_Month'] = df['event.dt1'].dt.month\n",
    "df['Event_Day'] = df['event.dt1'].dt.day"
   ]
  },
  {
   "cell_type": "code",
   "execution_count": 43,
   "metadata": {},
   "outputs": [
    {
     "data": {
      "text/html": [
       "<div>\n",
       "<style scoped>\n",
       "    .dataframe tbody tr th:only-of-type {\n",
       "        vertical-align: middle;\n",
       "    }\n",
       "\n",
       "    .dataframe tbody tr th {\n",
       "        vertical-align: top;\n",
       "    }\n",
       "\n",
       "    .dataframe thead th {\n",
       "        text-align: right;\n",
       "    }\n",
       "</style>\n",
       "<table border=\"1\" class=\"dataframe\">\n",
       "  <thead>\n",
       "    <tr style=\"text-align: right;\">\n",
       "      <th></th>\n",
       "      <th>primaryid</th>\n",
       "      <th>drugname</th>\n",
       "      <th>outc_cod</th>\n",
       "      <th>i_f_code</th>\n",
       "      <th>age_grp</th>\n",
       "      <th>event.dt1</th>\n",
       "      <th>sex</th>\n",
       "      <th>rept_cod</th>\n",
       "      <th>wt</th>\n",
       "      <th>wt_cod</th>\n",
       "      <th>reporter_country</th>\n",
       "      <th>occr_country</th>\n",
       "      <th>Event_Year</th>\n",
       "      <th>Event_Month</th>\n",
       "      <th>Event_Day</th>\n",
       "    </tr>\n",
       "  </thead>\n",
       "  <tbody>\n",
       "    <tr>\n",
       "      <th>3810</th>\n",
       "      <td>68189135</td>\n",
       "      <td>1</td>\n",
       "      <td>0.0</td>\n",
       "      <td>F</td>\n",
       "      <td>UNK</td>\n",
       "      <td>NaT</td>\n",
       "      <td>M</td>\n",
       "      <td>EXP</td>\n",
       "      <td>83.0</td>\n",
       "      <td>KG</td>\n",
       "      <td>NO</td>\n",
       "      <td>NO</td>\n",
       "      <td>NaN</td>\n",
       "      <td>NaN</td>\n",
       "      <td>NaN</td>\n",
       "    </tr>\n",
       "    <tr>\n",
       "      <th>3809</th>\n",
       "      <td>68189135</td>\n",
       "      <td>1</td>\n",
       "      <td>0.0</td>\n",
       "      <td>F</td>\n",
       "      <td>UNK</td>\n",
       "      <td>NaT</td>\n",
       "      <td>M</td>\n",
       "      <td>EXP</td>\n",
       "      <td>83.0</td>\n",
       "      <td>KG</td>\n",
       "      <td>NO</td>\n",
       "      <td>NO</td>\n",
       "      <td>NaN</td>\n",
       "      <td>NaN</td>\n",
       "      <td>NaN</td>\n",
       "    </tr>\n",
       "    <tr>\n",
       "      <th>3815</th>\n",
       "      <td>71855114</td>\n",
       "      <td>1</td>\n",
       "      <td>0.0</td>\n",
       "      <td>F</td>\n",
       "      <td>UNK</td>\n",
       "      <td>2009-01-01</td>\n",
       "      <td>F</td>\n",
       "      <td>EXP</td>\n",
       "      <td>83.0</td>\n",
       "      <td>KG</td>\n",
       "      <td>NL</td>\n",
       "      <td>NL</td>\n",
       "      <td>2009.0</td>\n",
       "      <td>1.0</td>\n",
       "      <td>1.0</td>\n",
       "    </tr>\n",
       "    <tr>\n",
       "      <th>3816</th>\n",
       "      <td>71855114</td>\n",
       "      <td>1</td>\n",
       "      <td>0.0</td>\n",
       "      <td>F</td>\n",
       "      <td>UNK</td>\n",
       "      <td>2009-01-01</td>\n",
       "      <td>F</td>\n",
       "      <td>EXP</td>\n",
       "      <td>83.0</td>\n",
       "      <td>KG</td>\n",
       "      <td>NL</td>\n",
       "      <td>NL</td>\n",
       "      <td>2009.0</td>\n",
       "      <td>1.0</td>\n",
       "      <td>1.0</td>\n",
       "    </tr>\n",
       "    <tr>\n",
       "      <th>3826</th>\n",
       "      <td>86164526</td>\n",
       "      <td>1</td>\n",
       "      <td>0.0</td>\n",
       "      <td>F</td>\n",
       "      <td>UNK</td>\n",
       "      <td>2007-10-10</td>\n",
       "      <td>F</td>\n",
       "      <td>EXP</td>\n",
       "      <td>64.9</td>\n",
       "      <td>KG</td>\n",
       "      <td>US</td>\n",
       "      <td>US</td>\n",
       "      <td>2007.0</td>\n",
       "      <td>10.0</td>\n",
       "      <td>10.0</td>\n",
       "    </tr>\n",
       "  </tbody>\n",
       "</table>\n",
       "</div>"
      ],
      "text/plain": [
       "      primaryid  drugname  outc_cod i_f_code age_grp  event.dt1 sex rept_cod  \\\n",
       "3810   68189135         1       0.0        F     UNK        NaT   M      EXP   \n",
       "3809   68189135         1       0.0        F     UNK        NaT   M      EXP   \n",
       "3815   71855114         1       0.0        F     UNK 2009-01-01   F      EXP   \n",
       "3816   71855114         1       0.0        F     UNK 2009-01-01   F      EXP   \n",
       "3826   86164526         1       0.0        F     UNK 2007-10-10   F      EXP   \n",
       "\n",
       "        wt wt_cod reporter_country occr_country  Event_Year  Event_Month  \\\n",
       "3810  83.0     KG               NO           NO         NaN          NaN   \n",
       "3809  83.0     KG               NO           NO         NaN          NaN   \n",
       "3815  83.0     KG               NL           NL      2009.0          1.0   \n",
       "3816  83.0     KG               NL           NL      2009.0          1.0   \n",
       "3826  64.9     KG               US           US      2007.0         10.0   \n",
       "\n",
       "      Event_Day  \n",
       "3810        NaN  \n",
       "3809        NaN  \n",
       "3815        1.0  \n",
       "3816        1.0  \n",
       "3826       10.0  "
      ]
     },
     "execution_count": 43,
     "metadata": {},
     "output_type": "execute_result"
    }
   ],
   "source": [
    "df.head()"
   ]
  },
  {
   "cell_type": "code",
   "execution_count": 44,
   "metadata": {},
   "outputs": [
    {
     "data": {
      "text/plain": [
       "2019.0    864\n",
       "Name: Event_Year, dtype: int64"
      ]
     },
     "execution_count": 44,
     "metadata": {},
     "output_type": "execute_result"
    }
   ],
   "source": [
    "df.Event_Year.value_counts().head(1)"
   ]
  },
  {
   "cell_type": "code",
   "execution_count": 45,
   "metadata": {},
   "outputs": [
    {
     "data": {
      "text/plain": [
       "1.0    875\n",
       "Name: Event_Month, dtype: int64"
      ]
     },
     "execution_count": 45,
     "metadata": {},
     "output_type": "execute_result"
    }
   ],
   "source": [
    "df.Event_Month.value_counts().head(1)"
   ]
  },
  {
   "cell_type": "code",
   "execution_count": 46,
   "metadata": {},
   "outputs": [
    {
     "data": {
      "text/plain": [
       "1.0    1173\n",
       "Name: Event_Day, dtype: int64"
      ]
     },
     "execution_count": 46,
     "metadata": {},
     "output_type": "execute_result"
    }
   ],
   "source": [
    "df.Event_Day.value_counts().head(1)"
   ]
  },
  {
   "cell_type": "code",
   "execution_count": 47,
   "metadata": {},
   "outputs": [],
   "source": [
    "df.Event_Year=df.Event_Year.fillna(2019)\n",
    "df.Event_Month=df.Event_Month.fillna(1)\n",
    "df.Event_Day=df.Event_Day.fillna(1)"
   ]
  },
  {
   "cell_type": "code",
   "execution_count": 48,
   "metadata": {
    "scrolled": false
   },
   "outputs": [],
   "source": [
    "df=df.drop('event.dt1', axis=1)"
   ]
  },
  {
   "cell_type": "code",
   "execution_count": 49,
   "metadata": {},
   "outputs": [
    {
     "name": "stdout",
     "output_type": "stream",
     "text": [
      "<class 'pandas.core.frame.DataFrame'>\n",
      "Int64Index: 3326 entries, 3810 to 1876\n",
      "Data columns (total 14 columns):\n",
      " #   Column            Non-Null Count  Dtype  \n",
      "---  ------            --------------  -----  \n",
      " 0   primaryid         3326 non-null   int64  \n",
      " 1   drugname          3326 non-null   int64  \n",
      " 2   outc_cod          3326 non-null   float64\n",
      " 3   i_f_code          3326 non-null   object \n",
      " 4   age_grp           3326 non-null   object \n",
      " 5   sex               3326 non-null   object \n",
      " 6   rept_cod          3326 non-null   object \n",
      " 7   wt                3326 non-null   float64\n",
      " 8   wt_cod            3326 non-null   object \n",
      " 9   reporter_country  3326 non-null   object \n",
      " 10  occr_country      3326 non-null   object \n",
      " 11  Event_Year        3326 non-null   float64\n",
      " 12  Event_Month       3326 non-null   float64\n",
      " 13  Event_Day         3326 non-null   float64\n",
      "dtypes: float64(5), int64(2), object(7)\n",
      "memory usage: 389.8+ KB\n"
     ]
    }
   ],
   "source": [
    "df = df.drop_duplicates()\n",
    "df.info()"
   ]
  },
  {
   "cell_type": "code",
   "execution_count": 50,
   "metadata": {},
   "outputs": [],
   "source": [
    "df.to_csv(r'/Users/halisyigin/Desktop/health_data/data/LIPITOR.csv', index = False)"
   ]
  },
  {
   "cell_type": "markdown",
   "metadata": {},
   "source": [
    "# Preprocessing"
   ]
  },
  {
   "cell_type": "markdown",
   "metadata": {},
   "source": [
    "### Convert categorical columns to numerical columns"
   ]
  },
  {
   "cell_type": "code",
   "execution_count": 51,
   "metadata": {},
   "outputs": [
    {
     "data": {
      "text/html": [
       "<div>\n",
       "<style scoped>\n",
       "    .dataframe tbody tr th:only-of-type {\n",
       "        vertical-align: middle;\n",
       "    }\n",
       "\n",
       "    .dataframe tbody tr th {\n",
       "        vertical-align: top;\n",
       "    }\n",
       "\n",
       "    .dataframe thead th {\n",
       "        text-align: right;\n",
       "    }\n",
       "</style>\n",
       "<table border=\"1\" class=\"dataframe\">\n",
       "  <thead>\n",
       "    <tr style=\"text-align: right;\">\n",
       "      <th></th>\n",
       "      <th>primaryid</th>\n",
       "      <th>drugname</th>\n",
       "      <th>outc_cod</th>\n",
       "      <th>wt</th>\n",
       "      <th>Event_Year</th>\n",
       "      <th>Event_Month</th>\n",
       "      <th>Event_Day</th>\n",
       "      <th>i_f_code_I</th>\n",
       "      <th>age_grp_E</th>\n",
       "      <th>age_grp_UNK</th>\n",
       "      <th>...</th>\n",
       "      <th>occr_country_MX</th>\n",
       "      <th>occr_country_NL</th>\n",
       "      <th>occr_country_NO</th>\n",
       "      <th>occr_country_PR</th>\n",
       "      <th>occr_country_SE</th>\n",
       "      <th>occr_country_SG</th>\n",
       "      <th>occr_country_TH</th>\n",
       "      <th>occr_country_TR</th>\n",
       "      <th>occr_country_TW</th>\n",
       "      <th>occr_country_US</th>\n",
       "    </tr>\n",
       "  </thead>\n",
       "  <tbody>\n",
       "    <tr>\n",
       "      <th>3810</th>\n",
       "      <td>68189135</td>\n",
       "      <td>1</td>\n",
       "      <td>0.0</td>\n",
       "      <td>83.00</td>\n",
       "      <td>2019.0</td>\n",
       "      <td>1.0</td>\n",
       "      <td>1.0</td>\n",
       "      <td>0</td>\n",
       "      <td>0</td>\n",
       "      <td>1</td>\n",
       "      <td>...</td>\n",
       "      <td>0</td>\n",
       "      <td>0</td>\n",
       "      <td>1</td>\n",
       "      <td>0</td>\n",
       "      <td>0</td>\n",
       "      <td>0</td>\n",
       "      <td>0</td>\n",
       "      <td>0</td>\n",
       "      <td>0</td>\n",
       "      <td>0</td>\n",
       "    </tr>\n",
       "    <tr>\n",
       "      <th>3815</th>\n",
       "      <td>71855114</td>\n",
       "      <td>1</td>\n",
       "      <td>0.0</td>\n",
       "      <td>83.00</td>\n",
       "      <td>2009.0</td>\n",
       "      <td>1.0</td>\n",
       "      <td>1.0</td>\n",
       "      <td>0</td>\n",
       "      <td>0</td>\n",
       "      <td>1</td>\n",
       "      <td>...</td>\n",
       "      <td>0</td>\n",
       "      <td>1</td>\n",
       "      <td>0</td>\n",
       "      <td>0</td>\n",
       "      <td>0</td>\n",
       "      <td>0</td>\n",
       "      <td>0</td>\n",
       "      <td>0</td>\n",
       "      <td>0</td>\n",
       "      <td>0</td>\n",
       "    </tr>\n",
       "    <tr>\n",
       "      <th>3826</th>\n",
       "      <td>86164526</td>\n",
       "      <td>1</td>\n",
       "      <td>0.0</td>\n",
       "      <td>64.90</td>\n",
       "      <td>2007.0</td>\n",
       "      <td>10.0</td>\n",
       "      <td>10.0</td>\n",
       "      <td>0</td>\n",
       "      <td>0</td>\n",
       "      <td>1</td>\n",
       "      <td>...</td>\n",
       "      <td>0</td>\n",
       "      <td>0</td>\n",
       "      <td>0</td>\n",
       "      <td>0</td>\n",
       "      <td>0</td>\n",
       "      <td>0</td>\n",
       "      <td>0</td>\n",
       "      <td>0</td>\n",
       "      <td>0</td>\n",
       "      <td>1</td>\n",
       "    </tr>\n",
       "    <tr>\n",
       "      <th>3830</th>\n",
       "      <td>87747743</td>\n",
       "      <td>1</td>\n",
       "      <td>0.0</td>\n",
       "      <td>45.81</td>\n",
       "      <td>2019.0</td>\n",
       "      <td>1.0</td>\n",
       "      <td>1.0</td>\n",
       "      <td>0</td>\n",
       "      <td>0</td>\n",
       "      <td>1</td>\n",
       "      <td>...</td>\n",
       "      <td>0</td>\n",
       "      <td>0</td>\n",
       "      <td>0</td>\n",
       "      <td>0</td>\n",
       "      <td>0</td>\n",
       "      <td>0</td>\n",
       "      <td>0</td>\n",
       "      <td>0</td>\n",
       "      <td>0</td>\n",
       "      <td>1</td>\n",
       "    </tr>\n",
       "    <tr>\n",
       "      <th>3831</th>\n",
       "      <td>91037475</td>\n",
       "      <td>1</td>\n",
       "      <td>0.0</td>\n",
       "      <td>83.00</td>\n",
       "      <td>2011.0</td>\n",
       "      <td>1.0</td>\n",
       "      <td>1.0</td>\n",
       "      <td>0</td>\n",
       "      <td>0</td>\n",
       "      <td>0</td>\n",
       "      <td>...</td>\n",
       "      <td>0</td>\n",
       "      <td>0</td>\n",
       "      <td>0</td>\n",
       "      <td>0</td>\n",
       "      <td>0</td>\n",
       "      <td>0</td>\n",
       "      <td>0</td>\n",
       "      <td>0</td>\n",
       "      <td>0</td>\n",
       "      <td>0</td>\n",
       "    </tr>\n",
       "  </tbody>\n",
       "</table>\n",
       "<p>5 rows × 68 columns</p>\n",
       "</div>"
      ],
      "text/plain": [
       "      primaryid  drugname  outc_cod     wt  Event_Year  Event_Month  \\\n",
       "3810   68189135         1       0.0  83.00      2019.0          1.0   \n",
       "3815   71855114         1       0.0  83.00      2009.0          1.0   \n",
       "3826   86164526         1       0.0  64.90      2007.0         10.0   \n",
       "3830   87747743         1       0.0  45.81      2019.0          1.0   \n",
       "3831   91037475         1       0.0  83.00      2011.0          1.0   \n",
       "\n",
       "      Event_Day  i_f_code_I  age_grp_E  age_grp_UNK  ...  occr_country_MX  \\\n",
       "3810        1.0           0          0            1  ...                0   \n",
       "3815        1.0           0          0            1  ...                0   \n",
       "3826       10.0           0          0            1  ...                0   \n",
       "3830        1.0           0          0            1  ...                0   \n",
       "3831        1.0           0          0            0  ...                0   \n",
       "\n",
       "      occr_country_NL  occr_country_NO  occr_country_PR  occr_country_SE  \\\n",
       "3810                0                1                0                0   \n",
       "3815                1                0                0                0   \n",
       "3826                0                0                0                0   \n",
       "3830                0                0                0                0   \n",
       "3831                0                0                0                0   \n",
       "\n",
       "      occr_country_SG  occr_country_TH  occr_country_TR  occr_country_TW  \\\n",
       "3810                0                0                0                0   \n",
       "3815                0                0                0                0   \n",
       "3826                0                0                0                0   \n",
       "3830                0                0                0                0   \n",
       "3831                0                0                0                0   \n",
       "\n",
       "      occr_country_US  \n",
       "3810                0  \n",
       "3815                0  \n",
       "3826                1  \n",
       "3830                1  \n",
       "3831                0  \n",
       "\n",
       "[5 rows x 68 columns]"
      ]
     },
     "execution_count": 51,
     "metadata": {},
     "output_type": "execute_result"
    }
   ],
   "source": [
    "pre_df = pd.get_dummies(df,drop_first=True)\n",
    "pre_df.head()"
   ]
  },
  {
   "cell_type": "code",
   "execution_count": 52,
   "metadata": {
    "scrolled": true
   },
   "outputs": [
    {
     "data": {
      "text/plain": [
       "(3326, 68)"
      ]
     },
     "execution_count": 52,
     "metadata": {},
     "output_type": "execute_result"
    }
   ],
   "source": [
    "pre_df.shape"
   ]
  },
  {
   "cell_type": "code",
   "execution_count": 53,
   "metadata": {},
   "outputs": [],
   "source": [
    "feature_cols=pre_df.drop(['outc_cod'],axis=1)\n",
    "X=feature_cols\n",
    "y=df['outc_cod']"
   ]
  },
  {
   "cell_type": "markdown",
   "metadata": {},
   "source": [
    "### Handle with imblance dataset"
   ]
  },
  {
   "cell_type": "code",
   "execution_count": 54,
   "metadata": {},
   "outputs": [
    {
     "data": {
      "image/png": "[encoded data removed]",
      "text/plain": [
       "<Figure size 432x288 with 1 Axes>"
      ]
     },
     "metadata": {},
     "output_type": "display_data"
    },
    {
     "name": "stdout",
     "output_type": "stream",
     "text": [
      "Not Death :  3089\n",
      "Death :  237\n",
      "Death Ratio :  0.07\n"
     ]
    }
   ],
   "source": [
    "sns.countplot(x = 'outc_cod', data=df, palette='hls')\n",
    "plt.xlabel('Count', fontsize=12)\n",
    "plt.ylabel('Outcome', fontsize=13)\n",
    "plt.show()\n",
    "print(\"Not Death : \", len(df[df['outc_cod']==0]))\n",
    "print(\"Death : \", len(df[df['outc_cod']==1]))\n",
    "print(\"Death Ratio : \", round((len(df[df['outc_cod']==1])/len(df['outc_cod'])),2))"
   ]
  },
  {
   "cell_type": "code",
   "execution_count": 55,
   "metadata": {},
   "outputs": [],
   "source": [
    "from imblearn.over_sampling import SMOTE\n",
    "from imblearn.under_sampling import RandomUnderSampler\n",
    "from collections import Counter\n",
    "from sklearn.model_selection import train_test_split, cross_val_score"
   ]
  },
  {
   "cell_type": "code",
   "execution_count": 56,
   "metadata": {},
   "outputs": [],
   "source": [
    "over = SMOTE()\n",
    "under = RandomUnderSampler()"
   ]
  },
  {
   "cell_type": "code",
   "execution_count": 57,
   "metadata": {},
   "outputs": [],
   "source": [
    "from imblearn.pipeline import make_pipeline\n",
    "steps = [('o', over), ('u', under)]\n",
    "pipeline = make_pipeline(over,under)"
   ]
  },
  {
   "cell_type": "code",
   "execution_count": 58,
   "metadata": {},
   "outputs": [],
   "source": [
    "X_train, X_test, y_train, y_test= train_test_split(X, y, test_size=0.3)"
   ]
  },
  {
   "cell_type": "code",
   "execution_count": 59,
   "metadata": {},
   "outputs": [
    {
     "name": "stdout",
     "output_type": "stream",
     "text": [
      "Before we handle with imblance date Counter({0.0: 2154, 1.0: 174})\n"
     ]
    }
   ],
   "source": [
    "counter = Counter(y_train)\n",
    "print('Before we handle with imblance date', counter)"
   ]
  },
  {
   "cell_type": "code",
   "execution_count": 60,
   "metadata": {},
   "outputs": [],
   "source": [
    "X_train, y_train= pipeline.fit_resample(X_train, y_train)"
   ]
  },
  {
   "cell_type": "code",
   "execution_count": 61,
   "metadata": {},
   "outputs": [
    {
     "name": "stdout",
     "output_type": "stream",
     "text": [
      "After we handle with imblance date Counter({0.0: 2154, 1.0: 2154})\n"
     ]
    }
   ],
   "source": [
    "counter = Counter(y_train)\n",
    "print('After we handle with imblance date',counter)"
   ]
  },
  {
   "cell_type": "markdown",
   "metadata": {},
   "source": [
    "# Modelling"
   ]
  },
  {
   "cell_type": "code",
   "execution_count": 62,
   "metadata": {},
   "outputs": [],
   "source": [
    "from sklearn.model_selection import train_test_split, cross_val_score\n",
    "from sklearn import metrics\n",
    "from sklearn.tree import DecisionTreeClassifier \n",
    "from sklearn.pipeline import Pipeline\n",
    "from sklearn.model_selection import GridSearchCV\n",
    "from sklearn.preprocessing import StandardScaler"
   ]
  },
  {
   "cell_type": "code",
   "execution_count": 63,
   "metadata": {},
   "outputs": [],
   "source": [
    "X_train, X_test, y_train, y_test= train_test_split(X, y, test_size=0.25)"
   ]
  },
  {
   "cell_type": "code",
   "execution_count": 64,
   "metadata": {},
   "outputs": [],
   "source": [
    "pipe_steps = [('scaler', StandardScaler()), ('decsT', DecisionTreeClassifier())]\n",
    "\n",
    "check_params = {'decsT__criterion':['gini', 'entropy'], \n",
    "               'decsT__max_depth': np.arange(4, 15)}\n",
    "\n",
    "pipeline = Pipeline(pipe_steps)"
   ]
  },
  {
   "cell_type": "code",
   "execution_count": 65,
   "metadata": {},
   "outputs": [
    {
     "name": "stdout",
     "output_type": "stream",
     "text": [
      "score for 3 fold CV := 0.92\n",
      "!!!! best fit parameters from GridSearchCV !!!!\n",
      "{'decsT__criterion': 'entropy', 'decsT__max_depth': 4}\n",
      "score for 4 fold CV := 0.92\n",
      "!!!! best fit parameters from GridSearchCV !!!!\n",
      "{'decsT__criterion': 'entropy', 'decsT__max_depth': 4}\n",
      "score for 5 fold CV := 0.92\n",
      "!!!! best fit parameters from GridSearchCV !!!!\n",
      "{'decsT__criterion': 'gini', 'decsT__max_depth': 4}\n"
     ]
    }
   ],
   "source": [
    "import warnings\n",
    "warnings.filterwarnings(\"ignore\")\n",
    "\n",
    "for cv in range(3, 6):\n",
    "    create_grid = GridSearchCV(pipeline, param_grid=check_params, cv=cv)\n",
    "    create_grid.fit(X_train, y_train)\n",
    "    print(\"score for %d fold CV := %3.2f\" %(cv, create_grid.score(X_test, y_test)))\n",
    "    print (\"!!!! best fit parameters from GridSearchCV !!!!\")\n",
    "    print (create_grid.best_params_)"
   ]
  },
  {
   "cell_type": "markdown",
   "metadata": {},
   "source": [
    "## Best Model"
   ]
  },
  {
   "cell_type": "code",
   "execution_count": 66,
   "metadata": {
    "scrolled": true
   },
   "outputs": [
    {
     "name": "stdout",
     "output_type": "stream",
     "text": [
      "score on the training data:  0.9310344827586207\n",
      "score on the test data:  0.9206730769230769\n"
     ]
    }
   ],
   "source": [
    "DecsTreeModel = DecisionTreeClassifier(criterion='entropy', max_depth=4)\n",
    "DecsTreeModel.fit(X_train, y_train)\n",
    "train_score = DecsTreeModel.score(X_train, y_train)\n",
    "print (\"score on the training data: \", train_score)\n",
    "\n",
    "test_score = DecsTreeModel.score(X_test, y_test)\n",
    "print (\"score on the test data: \", test_score)"
   ]
  },
  {
   "cell_type": "code",
   "execution_count": 67,
   "metadata": {},
   "outputs": [
    {
     "name": "stdout",
     "output_type": "stream",
     "text": [
      "Accuracy: 0.9206730769230769\n",
      "f1_score: 0.05714285714285714\n",
      "recall: 0.03125\n"
     ]
    }
   ],
   "source": [
    "from sklearn.metrics import accuracy_score,f1_score,recall_score,confusion_matrix,classification_report\n",
    "\n",
    "y_pred= DecsTreeModel.predict(X_test)\n",
    "ac_score=accuracy_score(y_test,y_pred)\n",
    "print(\"Accuracy: {}\".format(ac_score))\n",
    "\n",
    "f1=f1_score(y_test, y_pred)\n",
    "print(\"f1_score: {}\".format(f1))\n",
    "\n",
    "recall=recall_score(y_test, y_pred)\n",
    "print(\"recall: {}\".format(recall))"
   ]
  },
  {
   "cell_type": "code",
   "execution_count": 68,
   "metadata": {},
   "outputs": [
    {
     "name": "stdout",
     "output_type": "stream",
     "text": [
      "              precision    recall  f1-score   support\n",
      "\n",
      "         0.0       0.92      0.99      0.96       768\n",
      "         1.0       0.33      0.03      0.06        64\n",
      "\n",
      "    accuracy                           0.92       832\n",
      "   macro avg       0.63      0.51      0.51       832\n",
      "weighted avg       0.88      0.92      0.89       832\n",
      "\n"
     ]
    }
   ],
   "source": [
    "print(classification_report(y_test, y_pred))"
   ]
  },
  {
   "cell_type": "code",
   "execution_count": 69,
   "metadata": {},
   "outputs": [
    {
     "data": {
      "text/plain": [
       "<Figure size 432x288 with 0 Axes>"
      ]
     },
     "metadata": {},
     "output_type": "display_data"
    },
    {
     "data": {
      "image/png": "[encoded data removed]",
      "text/plain": [
       "<Figure size 864x576 with 1 Axes>"
      ]
     },
     "metadata": {},
     "output_type": "display_data"
    }
   ],
   "source": [
    "from mlxtend.plotting import plot_confusion_matrix\n",
    "\n",
    "cm  = confusion_matrix(y_test, y_pred)\n",
    "plt.figure()\n",
    "plot_confusion_matrix(cm,figsize=(12,8), hide_ticks=True,cmap=plt.cm.Blues)\n",
    "plt.xticks(range(2), ['Other', 'Death'], fontsize=16)\n",
    "plt.yticks(range(2), ['Other', 'Death'], fontsize=16)\n",
    "plt.show()"
   ]
  },
  {
   "cell_type": "markdown",
   "metadata": {},
   "source": [
    "## Feature Importance"
   ]
  },
  {
   "cell_type": "code",
   "execution_count": 70,
   "metadata": {},
   "outputs": [],
   "source": [
    "col_names_list_new = list(feature_cols.columns.values)"
   ]
  },
  {
   "cell_type": "code",
   "execution_count": 71,
   "metadata": {
    "scrolled": false
   },
   "outputs": [
    {
     "data": {
      "image/png": "[encoded data removed]",
      "text/plain": [
       "<Figure size 1080x792 with 1 Axes>"
      ]
     },
     "metadata": {},
     "output_type": "display_data"
    }
   ],
   "source": [
    "n_features = len(col_names_list_new)\n",
    "\n",
    "sns.set(style=\"whitegrid\")\n",
    "\n",
    "fig = plt.figure(figsize=(15, 11))\n",
    "fig.tight_layout()\n",
    "plt.bar(range(n_features), DecsTreeModel.feature_importances_, color=\"magenta\", align=\"center\", alpha=0.6)\n",
    "plt.xticks(np.arange(n_features), col_names_list_new, rotation=80, fontsize=11)\n",
    "plt.xlabel(\"Features\", fontsize=14)\n",
    "plt.ylabel(\"Feature Importance\", fontsize=14)\n",
    "plt.savefig(\"Feature_Importance.png\", dpi=300, bbox_inches='tight')"
   ]
  },
  {
   "cell_type": "code",
   "execution_count": null,
   "metadata": {},
   "outputs": [],
   "source": []
  }
 ],
 "metadata": {
  "kernelspec": {
   "display_name": "Python 3",
   "language": "python",
   "name": "python3"
  },
  "language_info": {
   "codemirror_mode": {
    "name": "ipython",
    "version": 3
   },
   "file_extension": ".py",
   "mimetype": "text/x-python",
   "name": "python",
   "nbconvert_exporter": "python",
   "pygments_lexer": "ipython3",
   "version": "3.7.6"
  }
 },
 "nbformat": 4,
 "nbformat_minor": 4
}
